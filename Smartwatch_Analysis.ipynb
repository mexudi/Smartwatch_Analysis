{
 "cells": [
  {
   "cell_type": "markdown",
   "id": "0790a5a5",
   "metadata": {},
   "source": [
    "# Smartwatch Data Analysis Using Python\n",
    "\n",
    "### Context\n",
    "In the smartwatch market, there is fierce competition between the different brands. People who enjoy keeping up with their fitness tend to favor smartwatches. One application of data science in healthcare is the analysis of the fitness data that has been gathered. "
   ]
  },
  {
   "cell_type": "markdown",
   "id": "9797d4a3",
   "metadata": {},
   "source": [
    "Let start our tasks by importing the necessary Python libraries and the dataset"
   ]
  },
  {
   "cell_type": "code",
   "execution_count": 1,
   "id": "a2fb48e1",
   "metadata": {},
   "outputs": [],
   "source": [
    "import numpy as np\n",
    "import pandas as pd\n",
    "import matplotlib.pyplot as plt\n",
    "import plotly.express as px\n",
    "import plotly.graph_objects as go\n",
    "df = pd.read_csv('dailyActivity_merged.csv')"
   ]
  },
  {
   "cell_type": "code",
   "execution_count": 2,
   "id": "7bb71e78",
   "metadata": {},
   "outputs": [
    {
     "data": {
      "text/html": [
       "<div>\n",
       "<style scoped>\n",
       "    .dataframe tbody tr th:only-of-type {\n",
       "        vertical-align: middle;\n",
       "    }\n",
       "\n",
       "    .dataframe tbody tr th {\n",
       "        vertical-align: top;\n",
       "    }\n",
       "\n",
       "    .dataframe thead th {\n",
       "        text-align: right;\n",
       "    }\n",
       "</style>\n",
       "<table border=\"1\" class=\"dataframe\">\n",
       "  <thead>\n",
       "    <tr style=\"text-align: right;\">\n",
       "      <th></th>\n",
       "      <th>Id</th>\n",
       "      <th>ActivityDate</th>\n",
       "      <th>TotalSteps</th>\n",
       "      <th>TotalDistance</th>\n",
       "      <th>TrackerDistance</th>\n",
       "      <th>LoggedActivitiesDistance</th>\n",
       "      <th>VeryActiveDistance</th>\n",
       "      <th>ModeratelyActiveDistance</th>\n",
       "      <th>LightActiveDistance</th>\n",
       "      <th>SedentaryActiveDistance</th>\n",
       "      <th>VeryActiveMinutes</th>\n",
       "      <th>FairlyActiveMinutes</th>\n",
       "      <th>LightlyActiveMinutes</th>\n",
       "      <th>SedentaryMinutes</th>\n",
       "      <th>Calories</th>\n",
       "    </tr>\n",
       "  </thead>\n",
       "  <tbody>\n",
       "    <tr>\n",
       "      <th>0</th>\n",
       "      <td>1503960366</td>\n",
       "      <td>4/12/2016</td>\n",
       "      <td>13162</td>\n",
       "      <td>8.50</td>\n",
       "      <td>8.50</td>\n",
       "      <td>0.0</td>\n",
       "      <td>1.88</td>\n",
       "      <td>0.55</td>\n",
       "      <td>6.06</td>\n",
       "      <td>0.0</td>\n",
       "      <td>25</td>\n",
       "      <td>13</td>\n",
       "      <td>328</td>\n",
       "      <td>728</td>\n",
       "      <td>1985</td>\n",
       "    </tr>\n",
       "    <tr>\n",
       "      <th>1</th>\n",
       "      <td>1503960366</td>\n",
       "      <td>4/13/2016</td>\n",
       "      <td>10735</td>\n",
       "      <td>6.97</td>\n",
       "      <td>6.97</td>\n",
       "      <td>0.0</td>\n",
       "      <td>1.57</td>\n",
       "      <td>0.69</td>\n",
       "      <td>4.71</td>\n",
       "      <td>0.0</td>\n",
       "      <td>21</td>\n",
       "      <td>19</td>\n",
       "      <td>217</td>\n",
       "      <td>776</td>\n",
       "      <td>1797</td>\n",
       "    </tr>\n",
       "    <tr>\n",
       "      <th>2</th>\n",
       "      <td>1503960366</td>\n",
       "      <td>4/14/2016</td>\n",
       "      <td>10460</td>\n",
       "      <td>6.74</td>\n",
       "      <td>6.74</td>\n",
       "      <td>0.0</td>\n",
       "      <td>2.44</td>\n",
       "      <td>0.40</td>\n",
       "      <td>3.91</td>\n",
       "      <td>0.0</td>\n",
       "      <td>30</td>\n",
       "      <td>11</td>\n",
       "      <td>181</td>\n",
       "      <td>1218</td>\n",
       "      <td>1776</td>\n",
       "    </tr>\n",
       "    <tr>\n",
       "      <th>3</th>\n",
       "      <td>1503960366</td>\n",
       "      <td>4/15/2016</td>\n",
       "      <td>9762</td>\n",
       "      <td>6.28</td>\n",
       "      <td>6.28</td>\n",
       "      <td>0.0</td>\n",
       "      <td>2.14</td>\n",
       "      <td>1.26</td>\n",
       "      <td>2.83</td>\n",
       "      <td>0.0</td>\n",
       "      <td>29</td>\n",
       "      <td>34</td>\n",
       "      <td>209</td>\n",
       "      <td>726</td>\n",
       "      <td>1745</td>\n",
       "    </tr>\n",
       "    <tr>\n",
       "      <th>4</th>\n",
       "      <td>1503960366</td>\n",
       "      <td>4/16/2016</td>\n",
       "      <td>12669</td>\n",
       "      <td>8.16</td>\n",
       "      <td>8.16</td>\n",
       "      <td>0.0</td>\n",
       "      <td>2.71</td>\n",
       "      <td>0.41</td>\n",
       "      <td>5.04</td>\n",
       "      <td>0.0</td>\n",
       "      <td>36</td>\n",
       "      <td>10</td>\n",
       "      <td>221</td>\n",
       "      <td>773</td>\n",
       "      <td>1863</td>\n",
       "    </tr>\n",
       "  </tbody>\n",
       "</table>\n",
       "</div>"
      ],
      "text/plain": [
       "           Id ActivityDate  TotalSteps  TotalDistance  TrackerDistance  \\\n",
       "0  1503960366    4/12/2016       13162           8.50             8.50   \n",
       "1  1503960366    4/13/2016       10735           6.97             6.97   \n",
       "2  1503960366    4/14/2016       10460           6.74             6.74   \n",
       "3  1503960366    4/15/2016        9762           6.28             6.28   \n",
       "4  1503960366    4/16/2016       12669           8.16             8.16   \n",
       "\n",
       "   LoggedActivitiesDistance  VeryActiveDistance  ModeratelyActiveDistance  \\\n",
       "0                       0.0                1.88                      0.55   \n",
       "1                       0.0                1.57                      0.69   \n",
       "2                       0.0                2.44                      0.40   \n",
       "3                       0.0                2.14                      1.26   \n",
       "4                       0.0                2.71                      0.41   \n",
       "\n",
       "   LightActiveDistance  SedentaryActiveDistance  VeryActiveMinutes  \\\n",
       "0                 6.06                      0.0                 25   \n",
       "1                 4.71                      0.0                 21   \n",
       "2                 3.91                      0.0                 30   \n",
       "3                 2.83                      0.0                 29   \n",
       "4                 5.04                      0.0                 36   \n",
       "\n",
       "   FairlyActiveMinutes  LightlyActiveMinutes  SedentaryMinutes  Calories  \n",
       "0                   13                   328               728      1985  \n",
       "1                   19                   217               776      1797  \n",
       "2                   11                   181              1218      1776  \n",
       "3                   34                   209               726      1745  \n",
       "4                   10                   221               773      1863  "
      ]
     },
     "execution_count": 2,
     "metadata": {},
     "output_type": "execute_result"
    }
   ],
   "source": [
    "# A look on the dataset\n",
    "df.head()"
   ]
  },
  {
   "cell_type": "code",
   "execution_count": 3,
   "id": "d5cbf014",
   "metadata": {},
   "outputs": [
    {
     "name": "stdout",
     "output_type": "stream",
     "text": [
      "<class 'pandas.core.frame.DataFrame'>\n",
      "RangeIndex: 940 entries, 0 to 939\n",
      "Data columns (total 15 columns):\n",
      " #   Column                    Non-Null Count  Dtype  \n",
      "---  ------                    --------------  -----  \n",
      " 0   Id                        940 non-null    int64  \n",
      " 1   ActivityDate              940 non-null    object \n",
      " 2   TotalSteps                940 non-null    int64  \n",
      " 3   TotalDistance             940 non-null    float64\n",
      " 4   TrackerDistance           940 non-null    float64\n",
      " 5   LoggedActivitiesDistance  940 non-null    float64\n",
      " 6   VeryActiveDistance        940 non-null    float64\n",
      " 7   ModeratelyActiveDistance  940 non-null    float64\n",
      " 8   LightActiveDistance       940 non-null    float64\n",
      " 9   SedentaryActiveDistance   940 non-null    float64\n",
      " 10  VeryActiveMinutes         940 non-null    int64  \n",
      " 11  FairlyActiveMinutes       940 non-null    int64  \n",
      " 12  LightlyActiveMinutes      940 non-null    int64  \n",
      " 13  SedentaryMinutes          940 non-null    int64  \n",
      " 14  Calories                  940 non-null    int64  \n",
      "dtypes: float64(7), int64(7), object(1)\n",
      "memory usage: 110.3+ KB\n"
     ]
    }
   ],
   "source": [
    "df.info()"
   ]
  },
  {
   "cell_type": "markdown",
   "id": "6e92e9e9",
   "metadata": {},
   "source": [
    "ActivityDate is an object. We may need to use dates in our analysis, so let’s convert this column into a datetime column:"
   ]
  },
  {
   "cell_type": "code",
   "execution_count": 4,
   "id": "f55f189d",
   "metadata": {},
   "outputs": [],
   "source": [
    "df.ActivityDate = pd.to_datetime(df.ActivityDate, format='%m/%d/%Y')"
   ]
  },
  {
   "cell_type": "code",
   "execution_count": 5,
   "id": "273049ef",
   "metadata": {},
   "outputs": [
    {
     "data": {
      "text/html": [
       "<div>\n",
       "<style scoped>\n",
       "    .dataframe tbody tr th:only-of-type {\n",
       "        vertical-align: middle;\n",
       "    }\n",
       "\n",
       "    .dataframe tbody tr th {\n",
       "        vertical-align: top;\n",
       "    }\n",
       "\n",
       "    .dataframe thead th {\n",
       "        text-align: right;\n",
       "    }\n",
       "</style>\n",
       "<table border=\"1\" class=\"dataframe\">\n",
       "  <thead>\n",
       "    <tr style=\"text-align: right;\">\n",
       "      <th></th>\n",
       "      <th>Id</th>\n",
       "      <th>ActivityDate</th>\n",
       "      <th>TotalSteps</th>\n",
       "      <th>TotalDistance</th>\n",
       "      <th>TrackerDistance</th>\n",
       "      <th>LoggedActivitiesDistance</th>\n",
       "      <th>VeryActiveDistance</th>\n",
       "      <th>ModeratelyActiveDistance</th>\n",
       "      <th>LightActiveDistance</th>\n",
       "      <th>SedentaryActiveDistance</th>\n",
       "      <th>VeryActiveMinutes</th>\n",
       "      <th>FairlyActiveMinutes</th>\n",
       "      <th>LightlyActiveMinutes</th>\n",
       "      <th>SedentaryMinutes</th>\n",
       "      <th>Calories</th>\n",
       "    </tr>\n",
       "  </thead>\n",
       "  <tbody>\n",
       "    <tr>\n",
       "      <th>0</th>\n",
       "      <td>1503960366</td>\n",
       "      <td>2016-04-12</td>\n",
       "      <td>13162</td>\n",
       "      <td>8.50</td>\n",
       "      <td>8.50</td>\n",
       "      <td>0.0</td>\n",
       "      <td>1.88</td>\n",
       "      <td>0.55</td>\n",
       "      <td>6.06</td>\n",
       "      <td>0.0</td>\n",
       "      <td>25</td>\n",
       "      <td>13</td>\n",
       "      <td>328</td>\n",
       "      <td>728</td>\n",
       "      <td>1985</td>\n",
       "    </tr>\n",
       "    <tr>\n",
       "      <th>1</th>\n",
       "      <td>1503960366</td>\n",
       "      <td>2016-04-13</td>\n",
       "      <td>10735</td>\n",
       "      <td>6.97</td>\n",
       "      <td>6.97</td>\n",
       "      <td>0.0</td>\n",
       "      <td>1.57</td>\n",
       "      <td>0.69</td>\n",
       "      <td>4.71</td>\n",
       "      <td>0.0</td>\n",
       "      <td>21</td>\n",
       "      <td>19</td>\n",
       "      <td>217</td>\n",
       "      <td>776</td>\n",
       "      <td>1797</td>\n",
       "    </tr>\n",
       "    <tr>\n",
       "      <th>2</th>\n",
       "      <td>1503960366</td>\n",
       "      <td>2016-04-14</td>\n",
       "      <td>10460</td>\n",
       "      <td>6.74</td>\n",
       "      <td>6.74</td>\n",
       "      <td>0.0</td>\n",
       "      <td>2.44</td>\n",
       "      <td>0.40</td>\n",
       "      <td>3.91</td>\n",
       "      <td>0.0</td>\n",
       "      <td>30</td>\n",
       "      <td>11</td>\n",
       "      <td>181</td>\n",
       "      <td>1218</td>\n",
       "      <td>1776</td>\n",
       "    </tr>\n",
       "    <tr>\n",
       "      <th>3</th>\n",
       "      <td>1503960366</td>\n",
       "      <td>2016-04-15</td>\n",
       "      <td>9762</td>\n",
       "      <td>6.28</td>\n",
       "      <td>6.28</td>\n",
       "      <td>0.0</td>\n",
       "      <td>2.14</td>\n",
       "      <td>1.26</td>\n",
       "      <td>2.83</td>\n",
       "      <td>0.0</td>\n",
       "      <td>29</td>\n",
       "      <td>34</td>\n",
       "      <td>209</td>\n",
       "      <td>726</td>\n",
       "      <td>1745</td>\n",
       "    </tr>\n",
       "    <tr>\n",
       "      <th>4</th>\n",
       "      <td>1503960366</td>\n",
       "      <td>2016-04-16</td>\n",
       "      <td>12669</td>\n",
       "      <td>8.16</td>\n",
       "      <td>8.16</td>\n",
       "      <td>0.0</td>\n",
       "      <td>2.71</td>\n",
       "      <td>0.41</td>\n",
       "      <td>5.04</td>\n",
       "      <td>0.0</td>\n",
       "      <td>36</td>\n",
       "      <td>10</td>\n",
       "      <td>221</td>\n",
       "      <td>773</td>\n",
       "      <td>1863</td>\n",
       "    </tr>\n",
       "  </tbody>\n",
       "</table>\n",
       "</div>"
      ],
      "text/plain": [
       "           Id ActivityDate  TotalSteps  TotalDistance  TrackerDistance  \\\n",
       "0  1503960366   2016-04-12       13162           8.50             8.50   \n",
       "1  1503960366   2016-04-13       10735           6.97             6.97   \n",
       "2  1503960366   2016-04-14       10460           6.74             6.74   \n",
       "3  1503960366   2016-04-15        9762           6.28             6.28   \n",
       "4  1503960366   2016-04-16       12669           8.16             8.16   \n",
       "\n",
       "   LoggedActivitiesDistance  VeryActiveDistance  ModeratelyActiveDistance  \\\n",
       "0                       0.0                1.88                      0.55   \n",
       "1                       0.0                1.57                      0.69   \n",
       "2                       0.0                2.44                      0.40   \n",
       "3                       0.0                2.14                      1.26   \n",
       "4                       0.0                2.71                      0.41   \n",
       "\n",
       "   LightActiveDistance  SedentaryActiveDistance  VeryActiveMinutes  \\\n",
       "0                 6.06                      0.0                 25   \n",
       "1                 4.71                      0.0                 21   \n",
       "2                 3.91                      0.0                 30   \n",
       "3                 2.83                      0.0                 29   \n",
       "4                 5.04                      0.0                 36   \n",
       "\n",
       "   FairlyActiveMinutes  LightlyActiveMinutes  SedentaryMinutes  Calories  \n",
       "0                   13                   328               728      1985  \n",
       "1                   19                   217               776      1797  \n",
       "2                   11                   181              1218      1776  \n",
       "3                   34                   209               726      1745  \n",
       "4                   10                   221               773      1863  "
      ]
     },
     "execution_count": 5,
     "metadata": {},
     "output_type": "execute_result"
    }
   ],
   "source": [
    "df.head()"
   ]
  },
  {
   "cell_type": "code",
   "execution_count": 6,
   "id": "679536e6",
   "metadata": {},
   "outputs": [
    {
     "data": {
      "text/plain": [
       "Id                          0\n",
       "ActivityDate                0\n",
       "TotalSteps                  0\n",
       "TotalDistance               0\n",
       "TrackerDistance             0\n",
       "LoggedActivitiesDistance    0\n",
       "VeryActiveDistance          0\n",
       "ModeratelyActiveDistance    0\n",
       "LightActiveDistance         0\n",
       "SedentaryActiveDistance     0\n",
       "VeryActiveMinutes           0\n",
       "FairlyActiveMinutes         0\n",
       "LightlyActiveMinutes        0\n",
       "SedentaryMinutes            0\n",
       "Calories                    0\n",
       "dtype: int64"
      ]
     },
     "execution_count": 6,
     "metadata": {},
     "output_type": "execute_result"
    }
   ],
   "source": [
    "df.isna().sum()"
   ]
  },
  {
   "cell_type": "markdown",
   "id": "d32e9aeb",
   "metadata": {},
   "source": [
    "The dataset does not contain any missing data"
   ]
  },
  {
   "cell_type": "markdown",
   "id": "bc3f5863",
   "metadata": {},
   "source": [
    "Look at all the columns; you will see information about very active, fairly active, lightly active, and sedentary minutes in the dataset. Let’s combine all these columns as total minutes before moving forward:"
   ]
  },
  {
   "cell_type": "code",
   "execution_count": 7,
   "id": "e555a179",
   "metadata": {},
   "outputs": [],
   "source": [
    "df['TotalMinute'] = df['VeryActiveMinutes'] + df['FairlyActiveMinutes'] + df['LightlyActiveMinutes'] + df['SedentaryMinutes']"
   ]
  },
  {
   "cell_type": "code",
   "execution_count": 8,
   "id": "5aaf65ee",
   "metadata": {},
   "outputs": [
    {
     "data": {
      "text/plain": [
       "0      1094\n",
       "1      1033\n",
       "2      1440\n",
       "3       998\n",
       "4      1040\n",
       "       ... \n",
       "935    1440\n",
       "936    1440\n",
       "937    1440\n",
       "938    1440\n",
       "939     931\n",
       "Name: TotalMinute, Length: 940, dtype: int64"
      ]
     },
     "execution_count": 8,
     "metadata": {},
     "output_type": "execute_result"
    }
   ],
   "source": [
    "df['TotalMinute']"
   ]
  },
  {
   "cell_type": "code",
   "execution_count": 9,
   "id": "452f4a1b",
   "metadata": {},
   "outputs": [
    {
     "data": {
      "text/plain": [
       "1440"
      ]
     },
     "execution_count": 9,
     "metadata": {},
     "output_type": "execute_result"
    }
   ],
   "source": [
    "df.iloc[268]['TotalMinute']"
   ]
  },
  {
   "cell_type": "code",
   "execution_count": 10,
   "id": "bdad7cf8",
   "metadata": {},
   "outputs": [
    {
     "data": {
      "text/html": [
       "<div>\n",
       "<style scoped>\n",
       "    .dataframe tbody tr th:only-of-type {\n",
       "        vertical-align: middle;\n",
       "    }\n",
       "\n",
       "    .dataframe tbody tr th {\n",
       "        vertical-align: top;\n",
       "    }\n",
       "\n",
       "    .dataframe thead th {\n",
       "        text-align: right;\n",
       "    }\n",
       "</style>\n",
       "<table border=\"1\" class=\"dataframe\">\n",
       "  <thead>\n",
       "    <tr style=\"text-align: right;\">\n",
       "      <th></th>\n",
       "      <th>Id</th>\n",
       "      <th>ActivityDate</th>\n",
       "      <th>TotalSteps</th>\n",
       "      <th>TotalDistance</th>\n",
       "      <th>TrackerDistance</th>\n",
       "      <th>LoggedActivitiesDistance</th>\n",
       "      <th>VeryActiveDistance</th>\n",
       "      <th>ModeratelyActiveDistance</th>\n",
       "      <th>LightActiveDistance</th>\n",
       "      <th>SedentaryActiveDistance</th>\n",
       "      <th>VeryActiveMinutes</th>\n",
       "      <th>FairlyActiveMinutes</th>\n",
       "      <th>LightlyActiveMinutes</th>\n",
       "      <th>SedentaryMinutes</th>\n",
       "      <th>Calories</th>\n",
       "      <th>TotalMinute</th>\n",
       "    </tr>\n",
       "  </thead>\n",
       "  <tbody>\n",
       "    <tr>\n",
       "      <th>278</th>\n",
       "      <td>2873212765</td>\n",
       "      <td>2016-04-25</td>\n",
       "      <td>7373</td>\n",
       "      <td>4.95</td>\n",
       "      <td>4.95</td>\n",
       "      <td>0.0</td>\n",
       "      <td>0.00</td>\n",
       "      <td>0.00</td>\n",
       "      <td>4.95</td>\n",
       "      <td>0.0</td>\n",
       "      <td>0</td>\n",
       "      <td>0</td>\n",
       "      <td>359</td>\n",
       "      <td>1081</td>\n",
       "      <td>1907</td>\n",
       "      <td>1440</td>\n",
       "    </tr>\n",
       "    <tr>\n",
       "      <th>579</th>\n",
       "      <td>5577150313</td>\n",
       "      <td>2016-04-24</td>\n",
       "      <td>15764</td>\n",
       "      <td>11.78</td>\n",
       "      <td>11.78</td>\n",
       "      <td>0.0</td>\n",
       "      <td>7.65</td>\n",
       "      <td>2.15</td>\n",
       "      <td>1.98</td>\n",
       "      <td>0.0</td>\n",
       "      <td>210</td>\n",
       "      <td>65</td>\n",
       "      <td>141</td>\n",
       "      <td>425</td>\n",
       "      <td>4392</td>\n",
       "      <td>841</td>\n",
       "    </tr>\n",
       "    <tr>\n",
       "      <th>677</th>\n",
       "      <td>6775888955</td>\n",
       "      <td>2016-05-05</td>\n",
       "      <td>0</td>\n",
       "      <td>0.00</td>\n",
       "      <td>0.00</td>\n",
       "      <td>0.0</td>\n",
       "      <td>0.00</td>\n",
       "      <td>0.00</td>\n",
       "      <td>0.00</td>\n",
       "      <td>0.0</td>\n",
       "      <td>0</td>\n",
       "      <td>0</td>\n",
       "      <td>0</td>\n",
       "      <td>1440</td>\n",
       "      <td>1841</td>\n",
       "      <td>1440</td>\n",
       "    </tr>\n",
       "    <tr>\n",
       "      <th>14</th>\n",
       "      <td>1503960366</td>\n",
       "      <td>2016-04-26</td>\n",
       "      <td>13755</td>\n",
       "      <td>8.79</td>\n",
       "      <td>8.79</td>\n",
       "      <td>0.0</td>\n",
       "      <td>2.33</td>\n",
       "      <td>0.92</td>\n",
       "      <td>5.54</td>\n",
       "      <td>0.0</td>\n",
       "      <td>31</td>\n",
       "      <td>23</td>\n",
       "      <td>279</td>\n",
       "      <td>833</td>\n",
       "      <td>1970</td>\n",
       "      <td>1166</td>\n",
       "    </tr>\n",
       "    <tr>\n",
       "      <th>736</th>\n",
       "      <td>7007744171</td>\n",
       "      <td>2016-05-07</td>\n",
       "      <td>0</td>\n",
       "      <td>0.00</td>\n",
       "      <td>0.00</td>\n",
       "      <td>0.0</td>\n",
       "      <td>0.00</td>\n",
       "      <td>0.00</td>\n",
       "      <td>0.00</td>\n",
       "      <td>0.0</td>\n",
       "      <td>0</td>\n",
       "      <td>0</td>\n",
       "      <td>0</td>\n",
       "      <td>111</td>\n",
       "      <td>120</td>\n",
       "      <td>111</td>\n",
       "    </tr>\n",
       "  </tbody>\n",
       "</table>\n",
       "</div>"
      ],
      "text/plain": [
       "             Id ActivityDate  TotalSteps  TotalDistance  TrackerDistance  \\\n",
       "278  2873212765   2016-04-25        7373           4.95             4.95   \n",
       "579  5577150313   2016-04-24       15764          11.78            11.78   \n",
       "677  6775888955   2016-05-05           0           0.00             0.00   \n",
       "14   1503960366   2016-04-26       13755           8.79             8.79   \n",
       "736  7007744171   2016-05-07           0           0.00             0.00   \n",
       "\n",
       "     LoggedActivitiesDistance  VeryActiveDistance  ModeratelyActiveDistance  \\\n",
       "278                       0.0                0.00                      0.00   \n",
       "579                       0.0                7.65                      2.15   \n",
       "677                       0.0                0.00                      0.00   \n",
       "14                        0.0                2.33                      0.92   \n",
       "736                       0.0                0.00                      0.00   \n",
       "\n",
       "     LightActiveDistance  SedentaryActiveDistance  VeryActiveMinutes  \\\n",
       "278                 4.95                      0.0                  0   \n",
       "579                 1.98                      0.0                210   \n",
       "677                 0.00                      0.0                  0   \n",
       "14                  5.54                      0.0                 31   \n",
       "736                 0.00                      0.0                  0   \n",
       "\n",
       "     FairlyActiveMinutes  LightlyActiveMinutes  SedentaryMinutes  Calories  \\\n",
       "278                    0                   359              1081      1907   \n",
       "579                   65                   141               425      4392   \n",
       "677                    0                     0              1440      1841   \n",
       "14                    23                   279               833      1970   \n",
       "736                    0                     0               111       120   \n",
       "\n",
       "     TotalMinute  \n",
       "278         1440  \n",
       "579          841  \n",
       "677         1440  \n",
       "14          1166  \n",
       "736          111  "
      ]
     },
     "execution_count": 10,
     "metadata": {},
     "output_type": "execute_result"
    }
   ],
   "source": [
    "df.sample(5)"
   ]
  },
  {
   "cell_type": "code",
   "execution_count": 11,
   "id": "60115984",
   "metadata": {},
   "outputs": [
    {
     "data": {
      "text/html": [
       "<div>\n",
       "<style scoped>\n",
       "    .dataframe tbody tr th:only-of-type {\n",
       "        vertical-align: middle;\n",
       "    }\n",
       "\n",
       "    .dataframe tbody tr th {\n",
       "        vertical-align: top;\n",
       "    }\n",
       "\n",
       "    .dataframe thead th {\n",
       "        text-align: right;\n",
       "    }\n",
       "</style>\n",
       "<table border=\"1\" class=\"dataframe\">\n",
       "  <thead>\n",
       "    <tr style=\"text-align: right;\">\n",
       "      <th></th>\n",
       "      <th>Id</th>\n",
       "      <th>TotalSteps</th>\n",
       "      <th>TotalDistance</th>\n",
       "      <th>TrackerDistance</th>\n",
       "      <th>LoggedActivitiesDistance</th>\n",
       "      <th>VeryActiveDistance</th>\n",
       "      <th>ModeratelyActiveDistance</th>\n",
       "      <th>LightActiveDistance</th>\n",
       "      <th>SedentaryActiveDistance</th>\n",
       "      <th>VeryActiveMinutes</th>\n",
       "      <th>FairlyActiveMinutes</th>\n",
       "      <th>LightlyActiveMinutes</th>\n",
       "      <th>SedentaryMinutes</th>\n",
       "      <th>Calories</th>\n",
       "      <th>TotalMinute</th>\n",
       "    </tr>\n",
       "  </thead>\n",
       "  <tbody>\n",
       "    <tr>\n",
       "      <th>count</th>\n",
       "      <td>9.400000e+02</td>\n",
       "      <td>940.000000</td>\n",
       "      <td>940.000000</td>\n",
       "      <td>940.000000</td>\n",
       "      <td>940.000000</td>\n",
       "      <td>940.000000</td>\n",
       "      <td>940.000000</td>\n",
       "      <td>940.000000</td>\n",
       "      <td>940.000000</td>\n",
       "      <td>940.000000</td>\n",
       "      <td>940.000000</td>\n",
       "      <td>940.000000</td>\n",
       "      <td>940.000000</td>\n",
       "      <td>940.000000</td>\n",
       "      <td>940.000000</td>\n",
       "    </tr>\n",
       "    <tr>\n",
       "      <th>mean</th>\n",
       "      <td>4.855407e+09</td>\n",
       "      <td>7637.910638</td>\n",
       "      <td>5.489702</td>\n",
       "      <td>5.475351</td>\n",
       "      <td>0.108171</td>\n",
       "      <td>1.502681</td>\n",
       "      <td>0.567543</td>\n",
       "      <td>3.340819</td>\n",
       "      <td>0.001606</td>\n",
       "      <td>21.164894</td>\n",
       "      <td>13.564894</td>\n",
       "      <td>192.812766</td>\n",
       "      <td>991.210638</td>\n",
       "      <td>2303.609574</td>\n",
       "      <td>1218.753191</td>\n",
       "    </tr>\n",
       "    <tr>\n",
       "      <th>std</th>\n",
       "      <td>2.424805e+09</td>\n",
       "      <td>5087.150742</td>\n",
       "      <td>3.924606</td>\n",
       "      <td>3.907276</td>\n",
       "      <td>0.619897</td>\n",
       "      <td>2.658941</td>\n",
       "      <td>0.883580</td>\n",
       "      <td>2.040655</td>\n",
       "      <td>0.007346</td>\n",
       "      <td>32.844803</td>\n",
       "      <td>19.987404</td>\n",
       "      <td>109.174700</td>\n",
       "      <td>301.267437</td>\n",
       "      <td>718.166862</td>\n",
       "      <td>265.931767</td>\n",
       "    </tr>\n",
       "    <tr>\n",
       "      <th>min</th>\n",
       "      <td>1.503960e+09</td>\n",
       "      <td>0.000000</td>\n",
       "      <td>0.000000</td>\n",
       "      <td>0.000000</td>\n",
       "      <td>0.000000</td>\n",
       "      <td>0.000000</td>\n",
       "      <td>0.000000</td>\n",
       "      <td>0.000000</td>\n",
       "      <td>0.000000</td>\n",
       "      <td>0.000000</td>\n",
       "      <td>0.000000</td>\n",
       "      <td>0.000000</td>\n",
       "      <td>0.000000</td>\n",
       "      <td>0.000000</td>\n",
       "      <td>2.000000</td>\n",
       "    </tr>\n",
       "    <tr>\n",
       "      <th>25%</th>\n",
       "      <td>2.320127e+09</td>\n",
       "      <td>3789.750000</td>\n",
       "      <td>2.620000</td>\n",
       "      <td>2.620000</td>\n",
       "      <td>0.000000</td>\n",
       "      <td>0.000000</td>\n",
       "      <td>0.000000</td>\n",
       "      <td>1.945000</td>\n",
       "      <td>0.000000</td>\n",
       "      <td>0.000000</td>\n",
       "      <td>0.000000</td>\n",
       "      <td>127.000000</td>\n",
       "      <td>729.750000</td>\n",
       "      <td>1828.500000</td>\n",
       "      <td>989.750000</td>\n",
       "    </tr>\n",
       "    <tr>\n",
       "      <th>50%</th>\n",
       "      <td>4.445115e+09</td>\n",
       "      <td>7405.500000</td>\n",
       "      <td>5.245000</td>\n",
       "      <td>5.245000</td>\n",
       "      <td>0.000000</td>\n",
       "      <td>0.210000</td>\n",
       "      <td>0.240000</td>\n",
       "      <td>3.365000</td>\n",
       "      <td>0.000000</td>\n",
       "      <td>4.000000</td>\n",
       "      <td>6.000000</td>\n",
       "      <td>199.000000</td>\n",
       "      <td>1057.500000</td>\n",
       "      <td>2134.000000</td>\n",
       "      <td>1440.000000</td>\n",
       "    </tr>\n",
       "    <tr>\n",
       "      <th>75%</th>\n",
       "      <td>6.962181e+09</td>\n",
       "      <td>10727.000000</td>\n",
       "      <td>7.712500</td>\n",
       "      <td>7.710000</td>\n",
       "      <td>0.000000</td>\n",
       "      <td>2.052500</td>\n",
       "      <td>0.800000</td>\n",
       "      <td>4.782500</td>\n",
       "      <td>0.000000</td>\n",
       "      <td>32.000000</td>\n",
       "      <td>19.000000</td>\n",
       "      <td>264.000000</td>\n",
       "      <td>1229.500000</td>\n",
       "      <td>2793.250000</td>\n",
       "      <td>1440.000000</td>\n",
       "    </tr>\n",
       "    <tr>\n",
       "      <th>max</th>\n",
       "      <td>8.877689e+09</td>\n",
       "      <td>36019.000000</td>\n",
       "      <td>28.030001</td>\n",
       "      <td>28.030001</td>\n",
       "      <td>4.942142</td>\n",
       "      <td>21.920000</td>\n",
       "      <td>6.480000</td>\n",
       "      <td>10.710000</td>\n",
       "      <td>0.110000</td>\n",
       "      <td>210.000000</td>\n",
       "      <td>143.000000</td>\n",
       "      <td>518.000000</td>\n",
       "      <td>1440.000000</td>\n",
       "      <td>4900.000000</td>\n",
       "      <td>1440.000000</td>\n",
       "    </tr>\n",
       "  </tbody>\n",
       "</table>\n",
       "</div>"
      ],
      "text/plain": [
       "                 Id    TotalSteps  TotalDistance  TrackerDistance  \\\n",
       "count  9.400000e+02    940.000000     940.000000       940.000000   \n",
       "mean   4.855407e+09   7637.910638       5.489702         5.475351   \n",
       "std    2.424805e+09   5087.150742       3.924606         3.907276   \n",
       "min    1.503960e+09      0.000000       0.000000         0.000000   \n",
       "25%    2.320127e+09   3789.750000       2.620000         2.620000   \n",
       "50%    4.445115e+09   7405.500000       5.245000         5.245000   \n",
       "75%    6.962181e+09  10727.000000       7.712500         7.710000   \n",
       "max    8.877689e+09  36019.000000      28.030001        28.030001   \n",
       "\n",
       "       LoggedActivitiesDistance  VeryActiveDistance  ModeratelyActiveDistance  \\\n",
       "count                940.000000          940.000000                940.000000   \n",
       "mean                   0.108171            1.502681                  0.567543   \n",
       "std                    0.619897            2.658941                  0.883580   \n",
       "min                    0.000000            0.000000                  0.000000   \n",
       "25%                    0.000000            0.000000                  0.000000   \n",
       "50%                    0.000000            0.210000                  0.240000   \n",
       "75%                    0.000000            2.052500                  0.800000   \n",
       "max                    4.942142           21.920000                  6.480000   \n",
       "\n",
       "       LightActiveDistance  SedentaryActiveDistance  VeryActiveMinutes  \\\n",
       "count           940.000000               940.000000         940.000000   \n",
       "mean              3.340819                 0.001606          21.164894   \n",
       "std               2.040655                 0.007346          32.844803   \n",
       "min               0.000000                 0.000000           0.000000   \n",
       "25%               1.945000                 0.000000           0.000000   \n",
       "50%               3.365000                 0.000000           4.000000   \n",
       "75%               4.782500                 0.000000          32.000000   \n",
       "max              10.710000                 0.110000         210.000000   \n",
       "\n",
       "       FairlyActiveMinutes  LightlyActiveMinutes  SedentaryMinutes  \\\n",
       "count           940.000000            940.000000        940.000000   \n",
       "mean             13.564894            192.812766        991.210638   \n",
       "std              19.987404            109.174700        301.267437   \n",
       "min               0.000000              0.000000          0.000000   \n",
       "25%               0.000000            127.000000        729.750000   \n",
       "50%               6.000000            199.000000       1057.500000   \n",
       "75%              19.000000            264.000000       1229.500000   \n",
       "max             143.000000            518.000000       1440.000000   \n",
       "\n",
       "          Calories  TotalMinute  \n",
       "count   940.000000   940.000000  \n",
       "mean   2303.609574  1218.753191  \n",
       "std     718.166862   265.931767  \n",
       "min       0.000000     2.000000  \n",
       "25%    1828.500000   989.750000  \n",
       "50%    2134.000000  1440.000000  \n",
       "75%    2793.250000  1440.000000  \n",
       "max    4900.000000  1440.000000  "
      ]
     },
     "execution_count": 11,
     "metadata": {},
     "output_type": "execute_result"
    }
   ],
   "source": [
    "df.describe()"
   ]
  },
  {
   "cell_type": "code",
   "execution_count": 13,
   "id": "9145ec96",
   "metadata": {},
   "outputs": [
    {
     "data": {
      "application/vnd.plotly.v1+json": {
       "config": {
        "plotlyServerURL": "https://plot.ly"
       },
       "data": [
        {
         "hovertemplate": "Calories=%{x}<br>TotalSteps=%{y}<br>VeryActiveMinutes=%{marker.size}<extra></extra>",
         "legendgroup": "",
         "marker": {
          "color": "#636efa",
          "size": [
           25,
           21,
           30,
           29,
           36,
           38,
           42,
           50,
           28,
           19,
           66,
           41,
           39,
           73,
           31,
           78,
           48,
           16,
           52,
           33,
           41,
           50,
           36,
           45,
           24,
           37,
           44,
           46,
           46,
           36,
           0,
           0,
           0,
           0,
           0,
           0,
           15,
           17,
           0,
           0,
           0,
           0,
           0,
           16,
           0,
           0,
           17,
           0,
           0,
           11,
           186,
           7,
           0,
           0,
           0,
           0,
           0,
           0,
           0,
           0,
           0,
           0,
           2,
           30,
           5,
           3,
           51,
           29,
           15,
           5,
           0,
           0,
           0,
           0,
           0,
           8,
           11,
           0,
           3,
           0,
           9,
           3,
           1,
           10,
           0,
           6,
           11,
           41,
           0,
           32,
           12,
           0,
           0,
           0,
           0,
           0,
           0,
           2,
           0,
           0,
           0,
           2,
           0,
           0,
           0,
           0,
           0,
           0,
           0,
           0,
           0,
           0,
           0,
           0,
           0,
           0,
           0,
           0,
           0,
           0,
           0,
           0,
           0,
           0,
           0,
           0,
           0,
           0,
           0,
           0,
           0,
           0,
           0,
           0,
           0,
           1,
           0,
           0,
           0,
           0,
           0,
           0,
           14,
           16,
           10,
           0,
           0,
           0,
           0,
           0,
           0,
           0,
           0,
           0,
           42,
           43,
           32,
           27,
           41,
           28,
           48,
           31,
           48,
           104,
           52,
           0,
           37,
           44,
           55,
           19,
           6,
           21,
           13,
           25,
           36,
           72,
           36,
           55,
           24,
           20,
           0,
           35,
           57,
           58,
           16,
           3,
           0,
           0,
           0,
           0,
           0,
           0,
           0,
           0,
           0,
           0,
           0,
           0,
           0,
           0,
           0,
           0,
           0,
           0,
           0,
           0,
           0,
           0,
           0,
           0,
           0,
           0,
           0,
           0,
           0,
           0,
           13,
           0,
           0,
           0,
           0,
           0,
           0,
           0,
           0,
           1,
           0,
           0,
           0,
           3,
           0,
           0,
           0,
           0,
           0,
           0,
           5,
           20,
           0,
           0,
           0,
           0,
           0,
           0,
           0,
           0,
           0,
           28,
           19,
           1,
           1,
           66,
           1,
           11,
           0,
           11,
           23,
           9,
           32,
           0,
           15,
           0,
           26,
           0,
           0,
           2,
           0,
           0,
           0,
           47,
           0,
           1,
           0,
           22,
           2,
           46,
           28,
           46,
           0,
           2,
           46,
           28,
           20,
           5,
           7,
           0,
           1,
           0,
           13,
           0,
           75,
           46,
           0,
           0,
           0,
           0,
           0,
           16,
           6,
           0,
           0,
           11,
           20,
           0,
           15,
           18,
           0,
           20,
           14,
           0,
           22,
           24,
           0,
           0,
           17,
           0,
           44,
           31,
           5,
           15,
           31,
           11,
           4,
           19,
           2,
           0,
           33,
           0,
           30,
           50,
           7,
           0,
           15,
           36,
           43,
           41,
           24,
           47,
           14,
           14,
           29,
           0,
           9,
           8,
           1,
           4,
           4,
           0,
           0,
           36,
           65,
           0,
           0,
           0,
           0,
           0,
           0,
           0,
           0,
           0,
           0,
           0,
           0,
           0,
           0,
           0,
           0,
           0,
           13,
           38,
           0,
           0,
           0,
           3,
           0,
           2,
           0,
           0,
           0,
           0,
           3,
           0,
           8,
           1,
           0,
           0,
           0,
           1,
           0,
           0,
           0,
           1,
           0,
           1,
           0,
           8,
           6,
           13,
           6,
           6,
           0,
           0,
           8,
           8,
           27,
           6,
           3,
           0,
           2,
           3,
           3,
           0,
           0,
           1,
           10,
           0,
           6,
           0,
           27,
           20,
           19,
           7,
           77,
           58,
           14,
           11,
           14,
           11,
           19,
           13,
           14,
           12,
           33,
           18,
           35,
           12,
           33,
           120,
           107,
           6,
           13,
           8,
           0,
           0,
           0,
           0,
           0,
           0,
           0,
           25,
           0,
           0,
           0,
           0,
           0,
           0,
           0,
           29,
           32,
           0,
           0,
           0,
           0,
           27,
           30,
           0,
           2,
           0,
           26,
           0,
           0,
           0,
           34,
           0,
           0,
           19,
           0,
           17,
           8,
           7,
           14,
           1,
           0,
           6,
           20,
           5,
           0,
           18,
           12,
           27,
           1,
           15,
           7,
           0,
           0,
           21,
           0,
           14,
           0,
           23,
           66,
           6,
           11,
           4,
           0,
           0,
           0,
           0,
           1,
           3,
           12,
           22,
           10,
           2,
           4,
           0,
           9,
           15,
           6,
           1,
           1,
           14,
           12,
           4,
           0,
           5,
           0,
           4,
           8,
           1,
           5,
           9,
           0,
           1,
           10,
           0,
           19,
           0,
           61,
           58,
           0,
           0,
           0,
           69,
           0,
           47,
           25,
           0,
           0,
           51,
           40,
           16,
           49,
           46,
           0,
           0,
           23,
           26,
           0,
           44,
           21,
           0,
           3,
           59,
           61,
           0,
           8,
           86,
           15,
           118,
           115,
           184,
           200,
           114,
           108,
           87,
           110,
           62,
           24,
           210,
           61,
           38,
           63,
           99,
           97,
           207,
           194,
           37,
           97,
           25,
           45,
           41,
           0,
           0,
           34,
           104,
           45,
           0,
           0,
           0,
           0,
           7,
           0,
           0,
           0,
           26,
           11,
           0,
           0,
           0,
           0,
           0,
           0,
           0,
           0,
           0,
           0,
           0,
           0,
           0,
           0,
           0,
           0,
           0,
           0,
           0,
           0,
           0,
           0,
           0,
           31,
           0,
           0,
           0,
           0,
           0,
           33,
           0,
           8,
           0,
           0,
           0,
           0,
           0,
           8,
           0,
           0,
           0,
           0,
           0,
           0,
           0,
           0,
           0,
           0,
           17,
           14,
           0,
           36,
           5,
           30,
           0,
           70,
           0,
           0,
           0,
           11,
           33,
           42,
           0,
           2,
           0,
           3,
           9,
           0,
           0,
           0,
           0,
           12,
           2,
           50,
           8,
           0,
           0,
           50,
           5,
           13,
           35,
           48,
           53,
           30,
           58,
           0,
           35,
           36,
           7,
           38,
           12,
           32,
           0,
           18,
           21,
           15,
           14,
           0,
           0,
           0,
           43,
           62,
           24,
           0,
           53,
           56,
           34,
           0,
           0,
           0,
           48,
           53,
           60,
           30,
           64,
           2,
           0,
           51,
           16,
           50,
           16,
           55,
           0,
           0,
           64,
           58,
           0,
           53,
           44,
           0,
           59,
           31,
           35,
           30,
           0,
           0,
           61,
           67,
           87,
           19,
           58,
           0,
           0,
           69,
           70,
           55,
           54,
           24,
           42,
           30,
           66,
           57,
           45,
           24,
           84,
           20,
           32,
           67,
           72,
           57,
           5,
           116,
           95,
           119,
           132,
           96,
           111,
           102,
           90,
           89,
           100,
           60,
           125,
           129,
           118,
           68,
           60,
           90,
           58,
           27,
           0,
           0,
           87,
           89,
           93,
           90,
           121,
           125,
           66,
           96,
           60,
           28,
           40,
           35,
           29,
           0,
           6,
           41,
           16,
           0,
           5,
           49,
           0,
           30,
           41,
           7,
           19,
           45,
           11,
           16,
           0,
           65,
           116,
           123,
           60,
           64,
           0,
           117,
           120,
           82,
           137,
           113,
           19,
           0,
           117,
           90,
           4,
           11,
           3,
           0,
           71,
           63,
           71,
           19,
           66,
           74,
           0,
           0,
           71,
           63,
           72,
           8,
           0,
           2,
           0,
           0,
           0,
           0,
           4,
           7,
           0,
           35,
           4,
           7,
           2,
           18,
           1,
           77,
           0,
           46,
           2,
           10,
           0,
           0,
           0,
           0,
           2,
           0,
           3,
           66,
           9,
           5,
           0,
           0,
           0,
           0,
           0,
           0,
           0,
           0,
           0,
           0,
           0,
           1,
           8,
           3,
           0,
           0,
           0,
           0,
           6,
           10,
           0,
           0,
           0,
           0,
           0,
           0,
           0,
           0,
           0,
           0,
           85,
           108,
           68,
           106,
           94,
           58,
           29,
           82,
           73,
           82,
           61,
           102,
           64,
           113,
           22,
           93,
           58,
           18,
           124,
           36,
           0,
           19,
           66,
           67,
           96,
           105,
           17,
           73,
           18,
           88,
           23
          ],
          "sizemode": "area",
          "sizeref": 0.525,
          "symbol": "circle"
         },
         "mode": "markers",
         "name": "",
         "orientation": "v",
         "showlegend": false,
         "type": "scatter",
         "x": [
          1985,
          1797,
          1776,
          1745,
          1863,
          1728,
          1921,
          2035,
          1786,
          1775,
          1827,
          1949,
          1788,
          2013,
          1970,
          2159,
          1898,
          1837,
          1947,
          1820,
          2004,
          1990,
          1819,
          1959,
          1896,
          1821,
          1740,
          1819,
          1859,
          1783,
          0,
          1432,
          1411,
          1572,
          1344,
          1463,
          1554,
          1604,
          1435,
          1446,
          1467,
          1470,
          1562,
          1617,
          1492,
          1402,
          1670,
          1401,
          1404,
          1655,
          2690,
          1497,
          1334,
          1368,
          1370,
          1341,
          1474,
          1427,
          1328,
          1393,
          1359,
          1002,
          3199,
          2902,
          3226,
          2750,
          3493,
          3011,
          2806,
          3300,
          2430,
          2140,
          2344,
          2677,
          2413,
          2497,
          3123,
          2489,
          3108,
          2498,
          3846,
          2696,
          2580,
          3324,
          2222,
          2463,
          3328,
          3404,
          2987,
          3008,
          2799,
          1276,
          2030,
          1860,
          2130,
          1725,
          1657,
          1793,
          1814,
          1366,
          1349,
          2062,
          1827,
          1645,
          1347,
          1347,
          1347,
          1348,
          1992,
          1856,
          1763,
          1541,
          1348,
          1742,
          1549,
          1589,
          1351,
          1347,
          1347,
          1347,
          1347,
          1347,
          665,
          2220,
          2151,
          2383,
          2221,
          2064,
          2063,
          2111,
          2063,
          2063,
          2064,
          2093,
          2499,
          2324,
          2100,
          2638,
          2063,
          2351,
          2063,
          2064,
          2411,
          2505,
          2195,
          2338,
          2063,
          2383,
          2229,
          2063,
          2063,
          2063,
          2063,
          1383,
          2390,
          2601,
          2312,
          2525,
          2177,
          2782,
          2770,
          2489,
          2897,
          3158,
          2638,
          2069,
          2529,
          2470,
          2793,
          2463,
          2296,
          2611,
          2732,
          2380,
          2473,
          2752,
          2649,
          2609,
          2498,
          1995,
          1848,
          2709,
          2797,
          2544,
          1853,
          1459,
          1521,
          1431,
          1444,
          1373,
          1214,
          1419,
          1356,
          1667,
          1370,
          1399,
          1916,
          1401,
          1576,
          1595,
          1593,
          1649,
          1692,
          1506,
          1447,
          1690,
          1604,
          1658,
          1926,
          1736,
          1491,
          1555,
          1869,
          1141,
          1698,
          1364,
          2124,
          2003,
          1696,
          1801,
          1724,
          1852,
          1905,
          1811,
          1922,
          1610,
          1851,
          1804,
          1725,
          1654,
          1632,
          1481,
          1473,
          1410,
          1779,
          1403,
          1613,
          1878,
          1426,
          1780,
          1742,
          1972,
          1821,
          1630,
          1899,
          1903,
          1125,
          2344,
          2038,
          2010,
          2133,
          2670,
          1882,
          1944,
          2346,
          2198,
          2048,
          1946,
          2629,
          2187,
          2095,
          1861,
          2194,
          1854,
          403,
          1982,
          2004,
          1893,
          2063,
          2148,
          1529,
          1890,
          1956,
          2094,
          1970,
          2241,
          2021,
          1898,
          1907,
          1882,
          1966,
          1835,
          1780,
          1830,
          1739,
          1878,
          1906,
          2015,
          1971,
          1910,
          1897,
          2096,
          1906,
          1962,
          1826,
          1431,
          1788,
          2093,
          2065,
          1908,
          1908,
          1964,
          2014,
          1985,
          1867,
          2124,
          1669,
          1995,
          1921,
          2010,
          2057,
          2095,
          1972,
          2044,
          1946,
          1237,
          1450,
          1495,
          1433,
          1468,
          1625,
          1529,
          1584,
          1638,
          1554,
          1397,
          1481,
          1638,
          1655,
          1570,
          1551,
          1377,
          1407,
          1545,
          1650,
          1501,
          1760,
          1710,
          1628,
          1618,
          1590,
          1574,
          1633,
          1667,
          1630,
          52,
          3654,
          1981,
          2011,
          2951,
          3051,
          1990,
          1995,
          1980,
          1980,
          1980,
          1980,
          1980,
          1980,
          1980,
          1980,
          1980,
          1980,
          1980,
          1980,
          1980,
          2207,
          2828,
          3879,
          3429,
          2704,
          2975,
          3089,
          2785,
          2926,
          2645,
          1120,
          2286,
          2306,
          1776,
          1527,
          2115,
          2135,
          2302,
          1985,
          1884,
          1464,
          1632,
          2200,
          2220,
          1792,
          1886,
          1945,
          1880,
          2314,
          2236,
          2324,
          2367,
          2175,
          2092,
          1593,
          2270,
          2235,
          2282,
          2530,
          2266,
          2158,
          1792,
          2345,
          2260,
          2232,
          257,
          2955,
          3092,
          2998,
          3066,
          3073,
          2572,
          3274,
          3015,
          3083,
          3069,
          3544,
          3306,
          2885,
          3288,
          2929,
          3074,
          2969,
          2979,
          3283,
          2926,
          3147,
          3290,
          3162,
          2899,
          3425,
          4022,
          3934,
          3013,
          3061,
          2954,
          1623,
          2113,
          2095,
          2194,
          2496,
          2180,
          1933,
          2248,
          1954,
          1974,
          2150,
          2432,
          2149,
          2247,
          2070,
          2291,
          2361,
          2203,
          2196,
          2363,
          2246,
          2336,
          2421,
          2070,
          2120,
          2211,
          2123,
          2423,
          2281,
          2181,
          2499,
          1212,
          1909,
          1722,
          1922,
          2121,
          1997,
          2117,
          2116,
          1876,
          1788,
          2486,
          2094,
          2085,
          2173,
          2225,
          2223,
          2098,
          2185,
          1918,
          2105,
          1692,
          2066,
          1953,
          1842,
          2262,
          1722,
          1973,
          2666,
          2223,
          1889,
          2131,
          1452,
          2947,
          2898,
          2984,
          2896,
          3328,
          3394,
          3013,
          2812,
          3061,
          2729,
          2241,
          3691,
          3538,
          3064,
          2784,
          2908,
          3033,
          3165,
          3115,
          2017,
          2859,
          3145,
          3004,
          3006,
          2859,
          3683,
          3287,
          2990,
          3172,
          3069,
          1240,
          2026,
          1718,
          2324,
          2254,
          1831,
          1397,
          1683,
          2284,
          1570,
          2066,
          2105,
          1776,
          1507,
          2033,
          2093,
          1922,
          1999,
          2169,
          1463,
          1747,
          1996,
          2116,
          1698,
          2156,
          1916,
          1494,
          1762,
          2272,
          2335,
          1693,
          741,
          3405,
          2551,
          4022,
          4005,
          4274,
          4552,
          3625,
          3501,
          3192,
          4018,
          3329,
          3152,
          4392,
          3374,
          3088,
          3294,
          3580,
          3544,
          4501,
          4546,
          3014,
          3795,
          2755,
          3004,
          2643,
          1819,
          1819,
          2489,
          3841,
          1665,
          1496,
          1496,
          1496,
          2865,
          2828,
          2225,
          2018,
          2606,
          2536,
          4900,
          2409,
          2651,
          2305,
          1497,
          2450,
          2576,
          1879,
          2560,
          2275,
          2361,
          2044,
          1496,
          1902,
          2636,
          1838,
          2469,
          2250,
          1248,
          2560,
          2905,
          2952,
          2896,
          2783,
          3171,
          2766,
          2839,
          2701,
          2060,
          2796,
          2664,
          2703,
          2771,
          2060,
          2743,
          2687,
          2060,
          2843,
          3327,
          2725,
          2671,
          2718,
          2682,
          2806,
          2613,
          2712,
          2175,
          0,
          1841,
          2400,
          2507,
          2127,
          2225,
          2067,
          2798,
          1841,
          3727,
          1841,
          1922,
          1841,
          2053,
          2484,
          2584,
          1841,
          1993,
          1841,
          2280,
          2319,
          1841,
          1843,
          1841,
          1841,
          2496,
          1032,
          1994,
          1718,
          1466,
          1756,
          2173,
          2027,
          2039,
          2046,
          2174,
          2179,
          2086,
          2571,
          1705,
          2194,
          2012,
          2034,
          2182,
          2254,
          2002,
          1740,
          2162,
          2072,
          2086,
          2066,
          1850,
          1947,
          1659,
          2105,
          2361,
          1855,
          928,
          2937,
          2742,
          2668,
          2098,
          2076,
          2383,
          2832,
          2812,
          3096,
          2763,
          2889,
          2284,
          2667,
          3055,
          2939,
          2830,
          2836,
          3180,
          2051,
          2225,
          2642,
          2976,
          1557,
          2933,
          2553,
          120,
          2772,
          2516,
          2734,
          2395,
          1635,
          1629,
          2743,
          2944,
          2997,
          2463,
          2846,
          1965,
          2049,
          2752,
          2781,
          2693,
          2862,
          2616,
          2995,
          2730,
          2754,
          2754,
          2655,
          2386,
          2924,
          2739,
          2534,
          2960,
          2800,
          2735,
          1199,
          3186,
          3140,
          3411,
          3410,
          2867,
          3213,
          3133,
          3114,
          3043,
          3103,
          2655,
          3554,
          3577,
          3403,
          2846,
          2852,
          3062,
          2794,
          2408,
          1886,
          1988,
          3023,
          2918,
          2950,
          2859,
          3331,
          3589,
          2765,
          2926,
          2809,
          1505,
          2044,
          1935,
          1705,
          1632,
          1880,
          2112,
          1829,
          1763,
          1931,
          2218,
          1651,
          2132,
          1976,
          1909,
          1813,
          2008,
          1580,
          1854,
          0,
          3635,
          4079,
          4163,
          3666,
          3363,
          2572,
          4157,
          4092,
          3787,
          4236,
          4044,
          2908,
          2741,
          4005,
          3763,
          3061,
          2884,
          2982,
          2660,
          3369,
          3491,
          3784,
          3110,
          3783,
          3644,
          2799,
          2685,
          3721,
          3586,
          3788,
          1976,
          2650,
          2654,
          2443,
          2505,
          2693,
          2439,
          2536,
          2668,
          2647,
          2883,
          2944,
          3012,
          2889,
          2547,
          3093,
          3142,
          2757,
          3513,
          3164,
          2596,
          2894,
          3212,
          2516,
          3266,
          2683,
          2810,
          2940,
          2947,
          2846,
          2804,
          0,
          2044,
          1934,
          1963,
          2009,
          1721,
          1688,
          1688,
          1688,
          2188,
          1720,
          2419,
          2748,
          1799,
          1688,
          1928,
          2067,
          2780,
          3101,
          2896,
          1962,
          2015,
          2297,
          2067,
          1688,
          1688,
          1688,
          1688,
          1688,
          57,
          3921,
          3566,
          3793,
          3934,
          4547,
          3545,
          2761,
          3676,
          3679,
          3659,
          3427,
          3891,
          3455,
          3802,
          2860,
          3808,
          3060,
          2698,
          4398,
          2786,
          2189,
          2817,
          3477,
          3052,
          4015,
          4142,
          2847,
          3710,
          2832,
          3832,
          1849
         ],
         "xaxis": "x",
         "y": [
          13162,
          10735,
          10460,
          9762,
          12669,
          9705,
          13019,
          15506,
          10544,
          9819,
          12764,
          14371,
          10039,
          15355,
          13755,
          18134,
          13154,
          11181,
          14673,
          10602,
          14727,
          15103,
          11100,
          14070,
          12159,
          11992,
          10060,
          12022,
          12207,
          12770,
          0,
          8163,
          7007,
          9107,
          1510,
          5370,
          6175,
          10536,
          2916,
          4974,
          6349,
          4026,
          8538,
          6076,
          6497,
          2826,
          8367,
          2759,
          2390,
          6474,
          36019,
          7155,
          2100,
          2193,
          2470,
          1727,
          2104,
          3427,
          1732,
          2969,
          3134,
          2971,
          10694,
          8001,
          11037,
          5263,
          15300,
          8757,
          7132,
          11256,
          2436,
          1223,
          3673,
          6637,
          3321,
          3580,
          9919,
          3032,
          9405,
          3176,
          18213,
          6132,
          3758,
          12850,
          2309,
          4363,
          9787,
          13372,
          6724,
          6643,
          9167,
          1329,
          6697,
          4929,
          7937,
          3844,
          3414,
          4525,
          4597,
          197,
          8,
          8054,
          5372,
          3570,
          0,
          0,
          0,
          4,
          6907,
          4920,
          4014,
          2573,
          0,
          4059,
          2080,
          2237,
          44,
          0,
          0,
          0,
          0,
          0,
          0,
          678,
          356,
          2163,
          980,
          0,
          0,
          244,
          0,
          0,
          0,
          149,
          2945,
          2090,
          152,
          3761,
          0,
          1675,
          0,
          0,
          2704,
          3790,
          1326,
          1786,
          0,
          2091,
          1510,
          0,
          0,
          0,
          0,
          0,
          11875,
          12024,
          10690,
          11034,
          10100,
          15112,
          14131,
          11548,
          15112,
          12453,
          12954,
          6001,
          13481,
          11369,
          10119,
          10159,
          10140,
          10245,
          18387,
          10538,
          10379,
          12183,
          11768,
          11895,
          10227,
          6708,
          3292,
          13379,
          12798,
          13272,
          9117,
          4414,
          4993,
          3335,
          3821,
          2547,
          838,
          3325,
          2424,
          7222,
          2467,
          2915,
          12357,
          3490,
          6017,
          5933,
          6088,
          6375,
          7604,
          4729,
          3609,
          7018,
          5992,
          6564,
          12167,
          8198,
          4193,
          5528,
          10685,
          254,
          8580,
          8891,
          10725,
          7275,
          3973,
          5205,
          5057,
          6198,
          6559,
          5997,
          7192,
          3404,
          5583,
          5079,
          4165,
          3588,
          3409,
          1715,
          1532,
          924,
          4571,
          772,
          3634,
          7443,
          1201,
          5202,
          4878,
          7379,
          5161,
          3090,
          6227,
          6424,
          2661,
          10113,
          10352,
          10129,
          10465,
          22244,
          5472,
          8247,
          6711,
          10999,
          10080,
          7804,
          16901,
          9471,
          9482,
          5980,
          11423,
          5439,
          42,
          8796,
          7618,
          7910,
          8482,
          9685,
          2524,
          7762,
          7948,
          9202,
          8859,
          7286,
          9317,
          6873,
          7373,
          8242,
          3516,
          7913,
          7365,
          8452,
          7399,
          7525,
          7412,
          8278,
          8314,
          7063,
          4940,
          8168,
          7726,
          8275,
          6440,
          7566,
          4747,
          9715,
          8844,
          7451,
          6905,
          8199,
          6798,
          7711,
          4880,
          8857,
          3843,
          7396,
          6731,
          5995,
          8283,
          7904,
          5512,
          9135,
          5250,
          3077,
          8856,
          10035,
          7641,
          9010,
          13459,
          10415,
          11663,
          12414,
          11658,
          6093,
          8911,
          12058,
          14112,
          11177,
          11388,
          7193,
          7114,
          10645,
          13238,
          10414,
          16520,
          14335,
          13559,
          12312,
          11677,
          11550,
          13585,
          14687,
          13072,
          746,
          8539,
          0,
          108,
          1882,
          1982,
          16,
          62,
          0,
          0,
          0,
          0,
          0,
          0,
          0,
          0,
          0,
          0,
          0,
          0,
          0,
          475,
          4496,
          10252,
          11728,
          4369,
          6132,
          5862,
          4556,
          5546,
          3689,
          590,
          5394,
          5974,
          0,
          3984,
          7753,
          8204,
          10210,
          5664,
          4744,
          29,
          2276,
          8925,
          8954,
          3702,
          4500,
          4935,
          4081,
          9259,
          9899,
          10780,
          10817,
          7990,
          8221,
          1251,
          9261,
          9648,
          10429,
          13658,
          9524,
          7937,
          3672,
          10378,
          9487,
          9129,
          17,
          10122,
          10993,
          8863,
          8758,
          6580,
          4660,
          11009,
          10181,
          10553,
          10055,
          12139,
          13236,
          10243,
          12961,
          9461,
          11193,
          10074,
          9232,
          12533,
          10255,
          10096,
          12727,
          12375,
          9603,
          13175,
          22770,
          17298,
          10218,
          10299,
          10201,
          3369,
          3276,
          2961,
          3974,
          7198,
          3945,
          2268,
          6155,
          2064,
          2072,
          3809,
          6831,
          4363,
          5002,
          3385,
          6326,
          7243,
          4493,
          4676,
          6222,
          5232,
          6910,
          7502,
          2923,
          3800,
          4514,
          5183,
          7303,
          5275,
          3915,
          9105,
          768,
          5135,
          4978,
          6799,
          7795,
          7289,
          9634,
          8940,
          5401,
          4803,
          13743,
          9601,
          6890,
          8563,
          8095,
          9148,
          9557,
          9451,
          7833,
          10319,
          3428,
          7891,
          5267,
          5232,
          10611,
          3755,
          8237,
          6543,
          11451,
          6435,
          9108,
          6307,
          7213,
          6877,
          7860,
          6506,
          11140,
          12692,
          9105,
          6708,
          8793,
          6530,
          1664,
          15126,
          15050,
          9167,
          6108,
          7047,
          9023,
          9930,
          10144,
          0,
          7245,
          9454,
          8161,
          8614,
          6943,
          14370,
          12857,
          8232,
          10613,
          9810,
          2752,
          11596,
          4832,
          17022,
          16556,
          5771,
          655,
          3727,
          15482,
          2713,
          12346,
          11682,
          4112,
          1807,
          10946,
          11886,
          10538,
          11393,
          12764,
          1202,
          5164,
          9769,
          12848,
          4249,
          14331,
          9632,
          1868,
          6083,
          11611,
          16358,
          4926,
          3121,
          8135,
          5077,
          8596,
          12087,
          14269,
          12231,
          9893,
          12574,
          8330,
          10830,
          9172,
          7638,
          15764,
          6393,
          5325,
          6805,
          9841,
          7924,
          12363,
          13368,
          7439,
          11045,
          5206,
          7550,
          4950,
          0,
          0,
          3421,
          8869,
          4038,
          0,
          0,
          0,
          14019,
          14450,
          7150,
          5153,
          11135,
          10449,
          19542,
          8206,
          11495,
          7623,
          0,
          9543,
          9411,
          3403,
          9592,
          6987,
          8915,
          4933,
          0,
          2997,
          9799,
          3365,
          7336,
          7328,
          4477,
          4562,
          7142,
          7671,
          9501,
          8301,
          7851,
          6885,
          7142,
          6361,
          0,
          6238,
          0,
          5896,
          7802,
          0,
          5565,
          5731,
          0,
          6744,
          9837,
          6781,
          6047,
          5832,
          6339,
          6116,
          5510,
          7706,
          6277,
          0,
          0,
          4053,
          5162,
          1282,
          4732,
          2497,
          8294,
          0,
          10771,
          0,
          637,
          0,
          2153,
          6474,
          7091,
          0,
          703,
          0,
          2503,
          2487,
          0,
          9,
          0,
          0,
          4697,
          1967,
          10199,
          5652,
          1551,
          5563,
          13217,
          10145,
          11404,
          10742,
          13928,
          11835,
          10725,
          20031,
          5029,
          13239,
          10433,
          10320,
          12627,
          10762,
          10081,
          5454,
          12912,
          12109,
          10147,
          10524,
          5908,
          6815,
          4188,
          12342,
          15448,
          6722,
          3587,
          14172,
          12862,
          11179,
          5273,
          4631,
          8059,
          14816,
          14194,
          15566,
          13744,
          15299,
          8093,
          11085,
          18229,
          15090,
          13541,
          15128,
          20067,
          3761,
          5600,
          13041,
          14510,
          0,
          15010,
          11459,
          0,
          11317,
          5813,
          9123,
          8585,
          31,
          0,
          9827,
          10688,
          14365,
          9469,
          9753,
          2817,
          3520,
          10091,
          10387,
          11107,
          11584,
          7881,
          14560,
          12390,
          10052,
          10288,
          10988,
          8564,
          12461,
          12827,
          10677,
          13566,
          14433,
          9572,
          3789,
          18060,
          16433,
          20159,
          20669,
          14549,
          18827,
          17076,
          15929,
          15108,
          16057,
          10520,
          22359,
          22988,
          20500,
          12685,
          12422,
          15447,
          12315,
          7135,
          1170,
          1969,
          15484,
          14581,
          14990,
          13953,
          19769,
          22026,
          12465,
          14810,
          12209,
          4998,
          9033,
          8053,
          5234,
          2672,
          9256,
          10204,
          5151,
          4212,
          6466,
          11268,
          2824,
          9282,
          8905,
          6829,
          4562,
          10232,
          2718,
          6260,
          0,
          7626,
          12386,
          13318,
          14461,
          11207,
          2132,
          13630,
          13070,
          9388,
          15148,
          12200,
          5709,
          3703,
          12405,
          16208,
          7359,
          5417,
          6175,
          2946,
          11419,
          6064,
          8712,
          7875,
          8567,
          7045,
          4468,
          2943,
          8382,
          6582,
          9143,
          4561,
          5014,
          5571,
          3135,
          3430,
          5319,
          3008,
          3864,
          5697,
          5273,
          8538,
          8687,
          9423,
          8286,
          4503,
          10499,
          12474,
          6174,
          15168,
          10085,
          4512,
          8469,
          12015,
          3588,
          12427,
          5843,
          6117,
          9217,
          9877,
          8240,
          8701,
          0,
          2564,
          1320,
          1219,
          2483,
          244,
          0,
          0,
          0,
          3147,
          144,
          4068,
          5245,
          400,
          0,
          1321,
          1758,
          6157,
          8360,
          7174,
          1619,
          1831,
          2421,
          2283,
          0,
          0,
          0,
          0,
          0,
          0,
          23186,
          15337,
          21129,
          13422,
          29326,
          15118,
          11423,
          18785,
          19948,
          19377,
          18258,
          11200,
          16674,
          12986,
          11101,
          23629,
          14890,
          9733,
          27745,
          10930,
          4790,
          10818,
          18193,
          14055,
          21727,
          12332,
          10686,
          20226,
          10733,
          21420,
          8064
         ],
         "yaxis": "y"
        }
       ],
       "layout": {
        "legend": {
         "itemsizing": "constant",
         "tracegroupgap": 0
        },
        "template": {
         "data": {
          "bar": [
           {
            "error_x": {
             "color": "#2a3f5f"
            },
            "error_y": {
             "color": "#2a3f5f"
            },
            "marker": {
             "line": {
              "color": "#E5ECF6",
              "width": 0.5
             },
             "pattern": {
              "fillmode": "overlay",
              "size": 10,
              "solidity": 0.2
             }
            },
            "type": "bar"
           }
          ],
          "barpolar": [
           {
            "marker": {
             "line": {
              "color": "#E5ECF6",
              "width": 0.5
             },
             "pattern": {
              "fillmode": "overlay",
              "size": 10,
              "solidity": 0.2
             }
            },
            "type": "barpolar"
           }
          ],
          "carpet": [
           {
            "aaxis": {
             "endlinecolor": "#2a3f5f",
             "gridcolor": "white",
             "linecolor": "white",
             "minorgridcolor": "white",
             "startlinecolor": "#2a3f5f"
            },
            "baxis": {
             "endlinecolor": "#2a3f5f",
             "gridcolor": "white",
             "linecolor": "white",
             "minorgridcolor": "white",
             "startlinecolor": "#2a3f5f"
            },
            "type": "carpet"
           }
          ],
          "choropleth": [
           {
            "colorbar": {
             "outlinewidth": 0,
             "ticks": ""
            },
            "type": "choropleth"
           }
          ],
          "contour": [
           {
            "colorbar": {
             "outlinewidth": 0,
             "ticks": ""
            },
            "colorscale": [
             [
              0,
              "#0d0887"
             ],
             [
              0.1111111111111111,
              "#46039f"
             ],
             [
              0.2222222222222222,
              "#7201a8"
             ],
             [
              0.3333333333333333,
              "#9c179e"
             ],
             [
              0.4444444444444444,
              "#bd3786"
             ],
             [
              0.5555555555555556,
              "#d8576b"
             ],
             [
              0.6666666666666666,
              "#ed7953"
             ],
             [
              0.7777777777777778,
              "#fb9f3a"
             ],
             [
              0.8888888888888888,
              "#fdca26"
             ],
             [
              1,
              "#f0f921"
             ]
            ],
            "type": "contour"
           }
          ],
          "contourcarpet": [
           {
            "colorbar": {
             "outlinewidth": 0,
             "ticks": ""
            },
            "type": "contourcarpet"
           }
          ],
          "heatmap": [
           {
            "colorbar": {
             "outlinewidth": 0,
             "ticks": ""
            },
            "colorscale": [
             [
              0,
              "#0d0887"
             ],
             [
              0.1111111111111111,
              "#46039f"
             ],
             [
              0.2222222222222222,
              "#7201a8"
             ],
             [
              0.3333333333333333,
              "#9c179e"
             ],
             [
              0.4444444444444444,
              "#bd3786"
             ],
             [
              0.5555555555555556,
              "#d8576b"
             ],
             [
              0.6666666666666666,
              "#ed7953"
             ],
             [
              0.7777777777777778,
              "#fb9f3a"
             ],
             [
              0.8888888888888888,
              "#fdca26"
             ],
             [
              1,
              "#f0f921"
             ]
            ],
            "type": "heatmap"
           }
          ],
          "heatmapgl": [
           {
            "colorbar": {
             "outlinewidth": 0,
             "ticks": ""
            },
            "colorscale": [
             [
              0,
              "#0d0887"
             ],
             [
              0.1111111111111111,
              "#46039f"
             ],
             [
              0.2222222222222222,
              "#7201a8"
             ],
             [
              0.3333333333333333,
              "#9c179e"
             ],
             [
              0.4444444444444444,
              "#bd3786"
             ],
             [
              0.5555555555555556,
              "#d8576b"
             ],
             [
              0.6666666666666666,
              "#ed7953"
             ],
             [
              0.7777777777777778,
              "#fb9f3a"
             ],
             [
              0.8888888888888888,
              "#fdca26"
             ],
             [
              1,
              "#f0f921"
             ]
            ],
            "type": "heatmapgl"
           }
          ],
          "histogram": [
           {
            "marker": {
             "pattern": {
              "fillmode": "overlay",
              "size": 10,
              "solidity": 0.2
             }
            },
            "type": "histogram"
           }
          ],
          "histogram2d": [
           {
            "colorbar": {
             "outlinewidth": 0,
             "ticks": ""
            },
            "colorscale": [
             [
              0,
              "#0d0887"
             ],
             [
              0.1111111111111111,
              "#46039f"
             ],
             [
              0.2222222222222222,
              "#7201a8"
             ],
             [
              0.3333333333333333,
              "#9c179e"
             ],
             [
              0.4444444444444444,
              "#bd3786"
             ],
             [
              0.5555555555555556,
              "#d8576b"
             ],
             [
              0.6666666666666666,
              "#ed7953"
             ],
             [
              0.7777777777777778,
              "#fb9f3a"
             ],
             [
              0.8888888888888888,
              "#fdca26"
             ],
             [
              1,
              "#f0f921"
             ]
            ],
            "type": "histogram2d"
           }
          ],
          "histogram2dcontour": [
           {
            "colorbar": {
             "outlinewidth": 0,
             "ticks": ""
            },
            "colorscale": [
             [
              0,
              "#0d0887"
             ],
             [
              0.1111111111111111,
              "#46039f"
             ],
             [
              0.2222222222222222,
              "#7201a8"
             ],
             [
              0.3333333333333333,
              "#9c179e"
             ],
             [
              0.4444444444444444,
              "#bd3786"
             ],
             [
              0.5555555555555556,
              "#d8576b"
             ],
             [
              0.6666666666666666,
              "#ed7953"
             ],
             [
              0.7777777777777778,
              "#fb9f3a"
             ],
             [
              0.8888888888888888,
              "#fdca26"
             ],
             [
              1,
              "#f0f921"
             ]
            ],
            "type": "histogram2dcontour"
           }
          ],
          "mesh3d": [
           {
            "colorbar": {
             "outlinewidth": 0,
             "ticks": ""
            },
            "type": "mesh3d"
           }
          ],
          "parcoords": [
           {
            "line": {
             "colorbar": {
              "outlinewidth": 0,
              "ticks": ""
             }
            },
            "type": "parcoords"
           }
          ],
          "pie": [
           {
            "automargin": true,
            "type": "pie"
           }
          ],
          "scatter": [
           {
            "fillpattern": {
             "fillmode": "overlay",
             "size": 10,
             "solidity": 0.2
            },
            "type": "scatter"
           }
          ],
          "scatter3d": [
           {
            "line": {
             "colorbar": {
              "outlinewidth": 0,
              "ticks": ""
             }
            },
            "marker": {
             "colorbar": {
              "outlinewidth": 0,
              "ticks": ""
             }
            },
            "type": "scatter3d"
           }
          ],
          "scattercarpet": [
           {
            "marker": {
             "colorbar": {
              "outlinewidth": 0,
              "ticks": ""
             }
            },
            "type": "scattercarpet"
           }
          ],
          "scattergeo": [
           {
            "marker": {
             "colorbar": {
              "outlinewidth": 0,
              "ticks": ""
             }
            },
            "type": "scattergeo"
           }
          ],
          "scattergl": [
           {
            "marker": {
             "colorbar": {
              "outlinewidth": 0,
              "ticks": ""
             }
            },
            "type": "scattergl"
           }
          ],
          "scattermapbox": [
           {
            "marker": {
             "colorbar": {
              "outlinewidth": 0,
              "ticks": ""
             }
            },
            "type": "scattermapbox"
           }
          ],
          "scatterpolar": [
           {
            "marker": {
             "colorbar": {
              "outlinewidth": 0,
              "ticks": ""
             }
            },
            "type": "scatterpolar"
           }
          ],
          "scatterpolargl": [
           {
            "marker": {
             "colorbar": {
              "outlinewidth": 0,
              "ticks": ""
             }
            },
            "type": "scatterpolargl"
           }
          ],
          "scatterternary": [
           {
            "marker": {
             "colorbar": {
              "outlinewidth": 0,
              "ticks": ""
             }
            },
            "type": "scatterternary"
           }
          ],
          "surface": [
           {
            "colorbar": {
             "outlinewidth": 0,
             "ticks": ""
            },
            "colorscale": [
             [
              0,
              "#0d0887"
             ],
             [
              0.1111111111111111,
              "#46039f"
             ],
             [
              0.2222222222222222,
              "#7201a8"
             ],
             [
              0.3333333333333333,
              "#9c179e"
             ],
             [
              0.4444444444444444,
              "#bd3786"
             ],
             [
              0.5555555555555556,
              "#d8576b"
             ],
             [
              0.6666666666666666,
              "#ed7953"
             ],
             [
              0.7777777777777778,
              "#fb9f3a"
             ],
             [
              0.8888888888888888,
              "#fdca26"
             ],
             [
              1,
              "#f0f921"
             ]
            ],
            "type": "surface"
           }
          ],
          "table": [
           {
            "cells": {
             "fill": {
              "color": "#EBF0F8"
             },
             "line": {
              "color": "white"
             }
            },
            "header": {
             "fill": {
              "color": "#C8D4E3"
             },
             "line": {
              "color": "white"
             }
            },
            "type": "table"
           }
          ]
         },
         "layout": {
          "annotationdefaults": {
           "arrowcolor": "#2a3f5f",
           "arrowhead": 0,
           "arrowwidth": 1
          },
          "autotypenumbers": "strict",
          "coloraxis": {
           "colorbar": {
            "outlinewidth": 0,
            "ticks": ""
           }
          },
          "colorscale": {
           "diverging": [
            [
             0,
             "#8e0152"
            ],
            [
             0.1,
             "#c51b7d"
            ],
            [
             0.2,
             "#de77ae"
            ],
            [
             0.3,
             "#f1b6da"
            ],
            [
             0.4,
             "#fde0ef"
            ],
            [
             0.5,
             "#f7f7f7"
            ],
            [
             0.6,
             "#e6f5d0"
            ],
            [
             0.7,
             "#b8e186"
            ],
            [
             0.8,
             "#7fbc41"
            ],
            [
             0.9,
             "#4d9221"
            ],
            [
             1,
             "#276419"
            ]
           ],
           "sequential": [
            [
             0,
             "#0d0887"
            ],
            [
             0.1111111111111111,
             "#46039f"
            ],
            [
             0.2222222222222222,
             "#7201a8"
            ],
            [
             0.3333333333333333,
             "#9c179e"
            ],
            [
             0.4444444444444444,
             "#bd3786"
            ],
            [
             0.5555555555555556,
             "#d8576b"
            ],
            [
             0.6666666666666666,
             "#ed7953"
            ],
            [
             0.7777777777777778,
             "#fb9f3a"
            ],
            [
             0.8888888888888888,
             "#fdca26"
            ],
            [
             1,
             "#f0f921"
            ]
           ],
           "sequentialminus": [
            [
             0,
             "#0d0887"
            ],
            [
             0.1111111111111111,
             "#46039f"
            ],
            [
             0.2222222222222222,
             "#7201a8"
            ],
            [
             0.3333333333333333,
             "#9c179e"
            ],
            [
             0.4444444444444444,
             "#bd3786"
            ],
            [
             0.5555555555555556,
             "#d8576b"
            ],
            [
             0.6666666666666666,
             "#ed7953"
            ],
            [
             0.7777777777777778,
             "#fb9f3a"
            ],
            [
             0.8888888888888888,
             "#fdca26"
            ],
            [
             1,
             "#f0f921"
            ]
           ]
          },
          "colorway": [
           "#636efa",
           "#EF553B",
           "#00cc96",
           "#ab63fa",
           "#FFA15A",
           "#19d3f3",
           "#FF6692",
           "#B6E880",
           "#FF97FF",
           "#FECB52"
          ],
          "font": {
           "color": "#2a3f5f"
          },
          "geo": {
           "bgcolor": "white",
           "lakecolor": "white",
           "landcolor": "#E5ECF6",
           "showlakes": true,
           "showland": true,
           "subunitcolor": "white"
          },
          "hoverlabel": {
           "align": "left"
          },
          "hovermode": "closest",
          "mapbox": {
           "style": "light"
          },
          "paper_bgcolor": "white",
          "plot_bgcolor": "#E5ECF6",
          "polar": {
           "angularaxis": {
            "gridcolor": "white",
            "linecolor": "white",
            "ticks": ""
           },
           "bgcolor": "#E5ECF6",
           "radialaxis": {
            "gridcolor": "white",
            "linecolor": "white",
            "ticks": ""
           }
          },
          "scene": {
           "xaxis": {
            "backgroundcolor": "#E5ECF6",
            "gridcolor": "white",
            "gridwidth": 2,
            "linecolor": "white",
            "showbackground": true,
            "ticks": "",
            "zerolinecolor": "white"
           },
           "yaxis": {
            "backgroundcolor": "#E5ECF6",
            "gridcolor": "white",
            "gridwidth": 2,
            "linecolor": "white",
            "showbackground": true,
            "ticks": "",
            "zerolinecolor": "white"
           },
           "zaxis": {
            "backgroundcolor": "#E5ECF6",
            "gridcolor": "white",
            "gridwidth": 2,
            "linecolor": "white",
            "showbackground": true,
            "ticks": "",
            "zerolinecolor": "white"
           }
          },
          "shapedefaults": {
           "line": {
            "color": "#2a3f5f"
           }
          },
          "ternary": {
           "aaxis": {
            "gridcolor": "white",
            "linecolor": "white",
            "ticks": ""
           },
           "baxis": {
            "gridcolor": "white",
            "linecolor": "white",
            "ticks": ""
           },
           "bgcolor": "#E5ECF6",
           "caxis": {
            "gridcolor": "white",
            "linecolor": "white",
            "ticks": ""
           }
          },
          "title": {
           "x": 0.05
          },
          "xaxis": {
           "automargin": true,
           "gridcolor": "white",
           "linecolor": "white",
           "ticks": "",
           "title": {
            "standoff": 15
           },
           "zerolinecolor": "white",
           "zerolinewidth": 2
          },
          "yaxis": {
           "automargin": true,
           "gridcolor": "white",
           "linecolor": "white",
           "ticks": "",
           "title": {
            "standoff": 15
           },
           "zerolinecolor": "white",
           "zerolinewidth": 2
          }
         }
        },
        "title": {
         "text": "Relationship between Calories & Total Steps"
        },
        "xaxis": {
         "anchor": "y",
         "domain": [
          0,
          1
         ],
         "title": {
          "text": "Calories"
         }
        },
        "yaxis": {
         "anchor": "x",
         "domain": [
          0,
          1
         ],
         "title": {
          "text": "TotalSteps"
         }
        }
       }
      },
      "text/html": [
       "<div>                            <div id=\"e7341342-c405-4cbc-8b50-c4416be07076\" class=\"plotly-graph-div\" style=\"height:525px; width:100%;\"></div>            <script type=\"text/javascript\">                require([\"plotly\"], function(Plotly) {                    window.PLOTLYENV=window.PLOTLYENV || {};                                    if (document.getElementById(\"e7341342-c405-4cbc-8b50-c4416be07076\")) {                    Plotly.newPlot(                        \"e7341342-c405-4cbc-8b50-c4416be07076\",                        [{\"hovertemplate\":\"Calories=%{x}<br>TotalSteps=%{y}<br>VeryActiveMinutes=%{marker.size}<extra></extra>\",\"legendgroup\":\"\",\"marker\":{\"color\":\"#636efa\",\"size\":[25,21,30,29,36,38,42,50,28,19,66,41,39,73,31,78,48,16,52,33,41,50,36,45,24,37,44,46,46,36,0,0,0,0,0,0,15,17,0,0,0,0,0,16,0,0,17,0,0,11,186,7,0,0,0,0,0,0,0,0,0,0,2,30,5,3,51,29,15,5,0,0,0,0,0,8,11,0,3,0,9,3,1,10,0,6,11,41,0,32,12,0,0,0,0,0,0,2,0,0,0,2,0,0,0,0,0,0,0,0,0,0,0,0,0,0,0,0,0,0,0,0,0,0,0,0,0,0,0,0,0,0,0,0,0,1,0,0,0,0,0,0,14,16,10,0,0,0,0,0,0,0,0,0,42,43,32,27,41,28,48,31,48,104,52,0,37,44,55,19,6,21,13,25,36,72,36,55,24,20,0,35,57,58,16,3,0,0,0,0,0,0,0,0,0,0,0,0,0,0,0,0,0,0,0,0,0,0,0,0,0,0,0,0,0,0,13,0,0,0,0,0,0,0,0,1,0,0,0,3,0,0,0,0,0,0,5,20,0,0,0,0,0,0,0,0,0,28,19,1,1,66,1,11,0,11,23,9,32,0,15,0,26,0,0,2,0,0,0,47,0,1,0,22,2,46,28,46,0,2,46,28,20,5,7,0,1,0,13,0,75,46,0,0,0,0,0,16,6,0,0,11,20,0,15,18,0,20,14,0,22,24,0,0,17,0,44,31,5,15,31,11,4,19,2,0,33,0,30,50,7,0,15,36,43,41,24,47,14,14,29,0,9,8,1,4,4,0,0,36,65,0,0,0,0,0,0,0,0,0,0,0,0,0,0,0,0,0,13,38,0,0,0,3,0,2,0,0,0,0,3,0,8,1,0,0,0,1,0,0,0,1,0,1,0,8,6,13,6,6,0,0,8,8,27,6,3,0,2,3,3,0,0,1,10,0,6,0,27,20,19,7,77,58,14,11,14,11,19,13,14,12,33,18,35,12,33,120,107,6,13,8,0,0,0,0,0,0,0,25,0,0,0,0,0,0,0,29,32,0,0,0,0,27,30,0,2,0,26,0,0,0,34,0,0,19,0,17,8,7,14,1,0,6,20,5,0,18,12,27,1,15,7,0,0,21,0,14,0,23,66,6,11,4,0,0,0,0,1,3,12,22,10,2,4,0,9,15,6,1,1,14,12,4,0,5,0,4,8,1,5,9,0,1,10,0,19,0,61,58,0,0,0,69,0,47,25,0,0,51,40,16,49,46,0,0,23,26,0,44,21,0,3,59,61,0,8,86,15,118,115,184,200,114,108,87,110,62,24,210,61,38,63,99,97,207,194,37,97,25,45,41,0,0,34,104,45,0,0,0,0,7,0,0,0,26,11,0,0,0,0,0,0,0,0,0,0,0,0,0,0,0,0,0,0,0,0,0,0,0,31,0,0,0,0,0,33,0,8,0,0,0,0,0,8,0,0,0,0,0,0,0,0,0,0,17,14,0,36,5,30,0,70,0,0,0,11,33,42,0,2,0,3,9,0,0,0,0,12,2,50,8,0,0,50,5,13,35,48,53,30,58,0,35,36,7,38,12,32,0,18,21,15,14,0,0,0,43,62,24,0,53,56,34,0,0,0,48,53,60,30,64,2,0,51,16,50,16,55,0,0,64,58,0,53,44,0,59,31,35,30,0,0,61,67,87,19,58,0,0,69,70,55,54,24,42,30,66,57,45,24,84,20,32,67,72,57,5,116,95,119,132,96,111,102,90,89,100,60,125,129,118,68,60,90,58,27,0,0,87,89,93,90,121,125,66,96,60,28,40,35,29,0,6,41,16,0,5,49,0,30,41,7,19,45,11,16,0,65,116,123,60,64,0,117,120,82,137,113,19,0,117,90,4,11,3,0,71,63,71,19,66,74,0,0,71,63,72,8,0,2,0,0,0,0,4,7,0,35,4,7,2,18,1,77,0,46,2,10,0,0,0,0,2,0,3,66,9,5,0,0,0,0,0,0,0,0,0,0,0,1,8,3,0,0,0,0,6,10,0,0,0,0,0,0,0,0,0,0,85,108,68,106,94,58,29,82,73,82,61,102,64,113,22,93,58,18,124,36,0,19,66,67,96,105,17,73,18,88,23],\"sizemode\":\"area\",\"sizeref\":0.525,\"symbol\":\"circle\"},\"mode\":\"markers\",\"name\":\"\",\"orientation\":\"v\",\"showlegend\":false,\"x\":[1985,1797,1776,1745,1863,1728,1921,2035,1786,1775,1827,1949,1788,2013,1970,2159,1898,1837,1947,1820,2004,1990,1819,1959,1896,1821,1740,1819,1859,1783,0,1432,1411,1572,1344,1463,1554,1604,1435,1446,1467,1470,1562,1617,1492,1402,1670,1401,1404,1655,2690,1497,1334,1368,1370,1341,1474,1427,1328,1393,1359,1002,3199,2902,3226,2750,3493,3011,2806,3300,2430,2140,2344,2677,2413,2497,3123,2489,3108,2498,3846,2696,2580,3324,2222,2463,3328,3404,2987,3008,2799,1276,2030,1860,2130,1725,1657,1793,1814,1366,1349,2062,1827,1645,1347,1347,1347,1348,1992,1856,1763,1541,1348,1742,1549,1589,1351,1347,1347,1347,1347,1347,665,2220,2151,2383,2221,2064,2063,2111,2063,2063,2064,2093,2499,2324,2100,2638,2063,2351,2063,2064,2411,2505,2195,2338,2063,2383,2229,2063,2063,2063,2063,1383,2390,2601,2312,2525,2177,2782,2770,2489,2897,3158,2638,2069,2529,2470,2793,2463,2296,2611,2732,2380,2473,2752,2649,2609,2498,1995,1848,2709,2797,2544,1853,1459,1521,1431,1444,1373,1214,1419,1356,1667,1370,1399,1916,1401,1576,1595,1593,1649,1692,1506,1447,1690,1604,1658,1926,1736,1491,1555,1869,1141,1698,1364,2124,2003,1696,1801,1724,1852,1905,1811,1922,1610,1851,1804,1725,1654,1632,1481,1473,1410,1779,1403,1613,1878,1426,1780,1742,1972,1821,1630,1899,1903,1125,2344,2038,2010,2133,2670,1882,1944,2346,2198,2048,1946,2629,2187,2095,1861,2194,1854,403,1982,2004,1893,2063,2148,1529,1890,1956,2094,1970,2241,2021,1898,1907,1882,1966,1835,1780,1830,1739,1878,1906,2015,1971,1910,1897,2096,1906,1962,1826,1431,1788,2093,2065,1908,1908,1964,2014,1985,1867,2124,1669,1995,1921,2010,2057,2095,1972,2044,1946,1237,1450,1495,1433,1468,1625,1529,1584,1638,1554,1397,1481,1638,1655,1570,1551,1377,1407,1545,1650,1501,1760,1710,1628,1618,1590,1574,1633,1667,1630,52,3654,1981,2011,2951,3051,1990,1995,1980,1980,1980,1980,1980,1980,1980,1980,1980,1980,1980,1980,1980,2207,2828,3879,3429,2704,2975,3089,2785,2926,2645,1120,2286,2306,1776,1527,2115,2135,2302,1985,1884,1464,1632,2200,2220,1792,1886,1945,1880,2314,2236,2324,2367,2175,2092,1593,2270,2235,2282,2530,2266,2158,1792,2345,2260,2232,257,2955,3092,2998,3066,3073,2572,3274,3015,3083,3069,3544,3306,2885,3288,2929,3074,2969,2979,3283,2926,3147,3290,3162,2899,3425,4022,3934,3013,3061,2954,1623,2113,2095,2194,2496,2180,1933,2248,1954,1974,2150,2432,2149,2247,2070,2291,2361,2203,2196,2363,2246,2336,2421,2070,2120,2211,2123,2423,2281,2181,2499,1212,1909,1722,1922,2121,1997,2117,2116,1876,1788,2486,2094,2085,2173,2225,2223,2098,2185,1918,2105,1692,2066,1953,1842,2262,1722,1973,2666,2223,1889,2131,1452,2947,2898,2984,2896,3328,3394,3013,2812,3061,2729,2241,3691,3538,3064,2784,2908,3033,3165,3115,2017,2859,3145,3004,3006,2859,3683,3287,2990,3172,3069,1240,2026,1718,2324,2254,1831,1397,1683,2284,1570,2066,2105,1776,1507,2033,2093,1922,1999,2169,1463,1747,1996,2116,1698,2156,1916,1494,1762,2272,2335,1693,741,3405,2551,4022,4005,4274,4552,3625,3501,3192,4018,3329,3152,4392,3374,3088,3294,3580,3544,4501,4546,3014,3795,2755,3004,2643,1819,1819,2489,3841,1665,1496,1496,1496,2865,2828,2225,2018,2606,2536,4900,2409,2651,2305,1497,2450,2576,1879,2560,2275,2361,2044,1496,1902,2636,1838,2469,2250,1248,2560,2905,2952,2896,2783,3171,2766,2839,2701,2060,2796,2664,2703,2771,2060,2743,2687,2060,2843,3327,2725,2671,2718,2682,2806,2613,2712,2175,0,1841,2400,2507,2127,2225,2067,2798,1841,3727,1841,1922,1841,2053,2484,2584,1841,1993,1841,2280,2319,1841,1843,1841,1841,2496,1032,1994,1718,1466,1756,2173,2027,2039,2046,2174,2179,2086,2571,1705,2194,2012,2034,2182,2254,2002,1740,2162,2072,2086,2066,1850,1947,1659,2105,2361,1855,928,2937,2742,2668,2098,2076,2383,2832,2812,3096,2763,2889,2284,2667,3055,2939,2830,2836,3180,2051,2225,2642,2976,1557,2933,2553,120,2772,2516,2734,2395,1635,1629,2743,2944,2997,2463,2846,1965,2049,2752,2781,2693,2862,2616,2995,2730,2754,2754,2655,2386,2924,2739,2534,2960,2800,2735,1199,3186,3140,3411,3410,2867,3213,3133,3114,3043,3103,2655,3554,3577,3403,2846,2852,3062,2794,2408,1886,1988,3023,2918,2950,2859,3331,3589,2765,2926,2809,1505,2044,1935,1705,1632,1880,2112,1829,1763,1931,2218,1651,2132,1976,1909,1813,2008,1580,1854,0,3635,4079,4163,3666,3363,2572,4157,4092,3787,4236,4044,2908,2741,4005,3763,3061,2884,2982,2660,3369,3491,3784,3110,3783,3644,2799,2685,3721,3586,3788,1976,2650,2654,2443,2505,2693,2439,2536,2668,2647,2883,2944,3012,2889,2547,3093,3142,2757,3513,3164,2596,2894,3212,2516,3266,2683,2810,2940,2947,2846,2804,0,2044,1934,1963,2009,1721,1688,1688,1688,2188,1720,2419,2748,1799,1688,1928,2067,2780,3101,2896,1962,2015,2297,2067,1688,1688,1688,1688,1688,57,3921,3566,3793,3934,4547,3545,2761,3676,3679,3659,3427,3891,3455,3802,2860,3808,3060,2698,4398,2786,2189,2817,3477,3052,4015,4142,2847,3710,2832,3832,1849],\"xaxis\":\"x\",\"y\":[13162,10735,10460,9762,12669,9705,13019,15506,10544,9819,12764,14371,10039,15355,13755,18134,13154,11181,14673,10602,14727,15103,11100,14070,12159,11992,10060,12022,12207,12770,0,8163,7007,9107,1510,5370,6175,10536,2916,4974,6349,4026,8538,6076,6497,2826,8367,2759,2390,6474,36019,7155,2100,2193,2470,1727,2104,3427,1732,2969,3134,2971,10694,8001,11037,5263,15300,8757,7132,11256,2436,1223,3673,6637,3321,3580,9919,3032,9405,3176,18213,6132,3758,12850,2309,4363,9787,13372,6724,6643,9167,1329,6697,4929,7937,3844,3414,4525,4597,197,8,8054,5372,3570,0,0,0,4,6907,4920,4014,2573,0,4059,2080,2237,44,0,0,0,0,0,0,678,356,2163,980,0,0,244,0,0,0,149,2945,2090,152,3761,0,1675,0,0,2704,3790,1326,1786,0,2091,1510,0,0,0,0,0,11875,12024,10690,11034,10100,15112,14131,11548,15112,12453,12954,6001,13481,11369,10119,10159,10140,10245,18387,10538,10379,12183,11768,11895,10227,6708,3292,13379,12798,13272,9117,4414,4993,3335,3821,2547,838,3325,2424,7222,2467,2915,12357,3490,6017,5933,6088,6375,7604,4729,3609,7018,5992,6564,12167,8198,4193,5528,10685,254,8580,8891,10725,7275,3973,5205,5057,6198,6559,5997,7192,3404,5583,5079,4165,3588,3409,1715,1532,924,4571,772,3634,7443,1201,5202,4878,7379,5161,3090,6227,6424,2661,10113,10352,10129,10465,22244,5472,8247,6711,10999,10080,7804,16901,9471,9482,5980,11423,5439,42,8796,7618,7910,8482,9685,2524,7762,7948,9202,8859,7286,9317,6873,7373,8242,3516,7913,7365,8452,7399,7525,7412,8278,8314,7063,4940,8168,7726,8275,6440,7566,4747,9715,8844,7451,6905,8199,6798,7711,4880,8857,3843,7396,6731,5995,8283,7904,5512,9135,5250,3077,8856,10035,7641,9010,13459,10415,11663,12414,11658,6093,8911,12058,14112,11177,11388,7193,7114,10645,13238,10414,16520,14335,13559,12312,11677,11550,13585,14687,13072,746,8539,0,108,1882,1982,16,62,0,0,0,0,0,0,0,0,0,0,0,0,0,475,4496,10252,11728,4369,6132,5862,4556,5546,3689,590,5394,5974,0,3984,7753,8204,10210,5664,4744,29,2276,8925,8954,3702,4500,4935,4081,9259,9899,10780,10817,7990,8221,1251,9261,9648,10429,13658,9524,7937,3672,10378,9487,9129,17,10122,10993,8863,8758,6580,4660,11009,10181,10553,10055,12139,13236,10243,12961,9461,11193,10074,9232,12533,10255,10096,12727,12375,9603,13175,22770,17298,10218,10299,10201,3369,3276,2961,3974,7198,3945,2268,6155,2064,2072,3809,6831,4363,5002,3385,6326,7243,4493,4676,6222,5232,6910,7502,2923,3800,4514,5183,7303,5275,3915,9105,768,5135,4978,6799,7795,7289,9634,8940,5401,4803,13743,9601,6890,8563,8095,9148,9557,9451,7833,10319,3428,7891,5267,5232,10611,3755,8237,6543,11451,6435,9108,6307,7213,6877,7860,6506,11140,12692,9105,6708,8793,6530,1664,15126,15050,9167,6108,7047,9023,9930,10144,0,7245,9454,8161,8614,6943,14370,12857,8232,10613,9810,2752,11596,4832,17022,16556,5771,655,3727,15482,2713,12346,11682,4112,1807,10946,11886,10538,11393,12764,1202,5164,9769,12848,4249,14331,9632,1868,6083,11611,16358,4926,3121,8135,5077,8596,12087,14269,12231,9893,12574,8330,10830,9172,7638,15764,6393,5325,6805,9841,7924,12363,13368,7439,11045,5206,7550,4950,0,0,3421,8869,4038,0,0,0,14019,14450,7150,5153,11135,10449,19542,8206,11495,7623,0,9543,9411,3403,9592,6987,8915,4933,0,2997,9799,3365,7336,7328,4477,4562,7142,7671,9501,8301,7851,6885,7142,6361,0,6238,0,5896,7802,0,5565,5731,0,6744,9837,6781,6047,5832,6339,6116,5510,7706,6277,0,0,4053,5162,1282,4732,2497,8294,0,10771,0,637,0,2153,6474,7091,0,703,0,2503,2487,0,9,0,0,4697,1967,10199,5652,1551,5563,13217,10145,11404,10742,13928,11835,10725,20031,5029,13239,10433,10320,12627,10762,10081,5454,12912,12109,10147,10524,5908,6815,4188,12342,15448,6722,3587,14172,12862,11179,5273,4631,8059,14816,14194,15566,13744,15299,8093,11085,18229,15090,13541,15128,20067,3761,5600,13041,14510,0,15010,11459,0,11317,5813,9123,8585,31,0,9827,10688,14365,9469,9753,2817,3520,10091,10387,11107,11584,7881,14560,12390,10052,10288,10988,8564,12461,12827,10677,13566,14433,9572,3789,18060,16433,20159,20669,14549,18827,17076,15929,15108,16057,10520,22359,22988,20500,12685,12422,15447,12315,7135,1170,1969,15484,14581,14990,13953,19769,22026,12465,14810,12209,4998,9033,8053,5234,2672,9256,10204,5151,4212,6466,11268,2824,9282,8905,6829,4562,10232,2718,6260,0,7626,12386,13318,14461,11207,2132,13630,13070,9388,15148,12200,5709,3703,12405,16208,7359,5417,6175,2946,11419,6064,8712,7875,8567,7045,4468,2943,8382,6582,9143,4561,5014,5571,3135,3430,5319,3008,3864,5697,5273,8538,8687,9423,8286,4503,10499,12474,6174,15168,10085,4512,8469,12015,3588,12427,5843,6117,9217,9877,8240,8701,0,2564,1320,1219,2483,244,0,0,0,3147,144,4068,5245,400,0,1321,1758,6157,8360,7174,1619,1831,2421,2283,0,0,0,0,0,0,23186,15337,21129,13422,29326,15118,11423,18785,19948,19377,18258,11200,16674,12986,11101,23629,14890,9733,27745,10930,4790,10818,18193,14055,21727,12332,10686,20226,10733,21420,8064],\"yaxis\":\"y\",\"type\":\"scatter\"}],                        {\"template\":{\"data\":{\"histogram2dcontour\":[{\"type\":\"histogram2dcontour\",\"colorbar\":{\"outlinewidth\":0,\"ticks\":\"\"},\"colorscale\":[[0.0,\"#0d0887\"],[0.1111111111111111,\"#46039f\"],[0.2222222222222222,\"#7201a8\"],[0.3333333333333333,\"#9c179e\"],[0.4444444444444444,\"#bd3786\"],[0.5555555555555556,\"#d8576b\"],[0.6666666666666666,\"#ed7953\"],[0.7777777777777778,\"#fb9f3a\"],[0.8888888888888888,\"#fdca26\"],[1.0,\"#f0f921\"]]}],\"choropleth\":[{\"type\":\"choropleth\",\"colorbar\":{\"outlinewidth\":0,\"ticks\":\"\"}}],\"histogram2d\":[{\"type\":\"histogram2d\",\"colorbar\":{\"outlinewidth\":0,\"ticks\":\"\"},\"colorscale\":[[0.0,\"#0d0887\"],[0.1111111111111111,\"#46039f\"],[0.2222222222222222,\"#7201a8\"],[0.3333333333333333,\"#9c179e\"],[0.4444444444444444,\"#bd3786\"],[0.5555555555555556,\"#d8576b\"],[0.6666666666666666,\"#ed7953\"],[0.7777777777777778,\"#fb9f3a\"],[0.8888888888888888,\"#fdca26\"],[1.0,\"#f0f921\"]]}],\"heatmap\":[{\"type\":\"heatmap\",\"colorbar\":{\"outlinewidth\":0,\"ticks\":\"\"},\"colorscale\":[[0.0,\"#0d0887\"],[0.1111111111111111,\"#46039f\"],[0.2222222222222222,\"#7201a8\"],[0.3333333333333333,\"#9c179e\"],[0.4444444444444444,\"#bd3786\"],[0.5555555555555556,\"#d8576b\"],[0.6666666666666666,\"#ed7953\"],[0.7777777777777778,\"#fb9f3a\"],[0.8888888888888888,\"#fdca26\"],[1.0,\"#f0f921\"]]}],\"heatmapgl\":[{\"type\":\"heatmapgl\",\"colorbar\":{\"outlinewidth\":0,\"ticks\":\"\"},\"colorscale\":[[0.0,\"#0d0887\"],[0.1111111111111111,\"#46039f\"],[0.2222222222222222,\"#7201a8\"],[0.3333333333333333,\"#9c179e\"],[0.4444444444444444,\"#bd3786\"],[0.5555555555555556,\"#d8576b\"],[0.6666666666666666,\"#ed7953\"],[0.7777777777777778,\"#fb9f3a\"],[0.8888888888888888,\"#fdca26\"],[1.0,\"#f0f921\"]]}],\"contourcarpet\":[{\"type\":\"contourcarpet\",\"colorbar\":{\"outlinewidth\":0,\"ticks\":\"\"}}],\"contour\":[{\"type\":\"contour\",\"colorbar\":{\"outlinewidth\":0,\"ticks\":\"\"},\"colorscale\":[[0.0,\"#0d0887\"],[0.1111111111111111,\"#46039f\"],[0.2222222222222222,\"#7201a8\"],[0.3333333333333333,\"#9c179e\"],[0.4444444444444444,\"#bd3786\"],[0.5555555555555556,\"#d8576b\"],[0.6666666666666666,\"#ed7953\"],[0.7777777777777778,\"#fb9f3a\"],[0.8888888888888888,\"#fdca26\"],[1.0,\"#f0f921\"]]}],\"surface\":[{\"type\":\"surface\",\"colorbar\":{\"outlinewidth\":0,\"ticks\":\"\"},\"colorscale\":[[0.0,\"#0d0887\"],[0.1111111111111111,\"#46039f\"],[0.2222222222222222,\"#7201a8\"],[0.3333333333333333,\"#9c179e\"],[0.4444444444444444,\"#bd3786\"],[0.5555555555555556,\"#d8576b\"],[0.6666666666666666,\"#ed7953\"],[0.7777777777777778,\"#fb9f3a\"],[0.8888888888888888,\"#fdca26\"],[1.0,\"#f0f921\"]]}],\"mesh3d\":[{\"type\":\"mesh3d\",\"colorbar\":{\"outlinewidth\":0,\"ticks\":\"\"}}],\"scatter\":[{\"fillpattern\":{\"fillmode\":\"overlay\",\"size\":10,\"solidity\":0.2},\"type\":\"scatter\"}],\"parcoords\":[{\"type\":\"parcoords\",\"line\":{\"colorbar\":{\"outlinewidth\":0,\"ticks\":\"\"}}}],\"scatterpolargl\":[{\"type\":\"scatterpolargl\",\"marker\":{\"colorbar\":{\"outlinewidth\":0,\"ticks\":\"\"}}}],\"bar\":[{\"error_x\":{\"color\":\"#2a3f5f\"},\"error_y\":{\"color\":\"#2a3f5f\"},\"marker\":{\"line\":{\"color\":\"#E5ECF6\",\"width\":0.5},\"pattern\":{\"fillmode\":\"overlay\",\"size\":10,\"solidity\":0.2}},\"type\":\"bar\"}],\"scattergeo\":[{\"type\":\"scattergeo\",\"marker\":{\"colorbar\":{\"outlinewidth\":0,\"ticks\":\"\"}}}],\"scatterpolar\":[{\"type\":\"scatterpolar\",\"marker\":{\"colorbar\":{\"outlinewidth\":0,\"ticks\":\"\"}}}],\"histogram\":[{\"marker\":{\"pattern\":{\"fillmode\":\"overlay\",\"size\":10,\"solidity\":0.2}},\"type\":\"histogram\"}],\"scattergl\":[{\"type\":\"scattergl\",\"marker\":{\"colorbar\":{\"outlinewidth\":0,\"ticks\":\"\"}}}],\"scatter3d\":[{\"type\":\"scatter3d\",\"line\":{\"colorbar\":{\"outlinewidth\":0,\"ticks\":\"\"}},\"marker\":{\"colorbar\":{\"outlinewidth\":0,\"ticks\":\"\"}}}],\"scattermapbox\":[{\"type\":\"scattermapbox\",\"marker\":{\"colorbar\":{\"outlinewidth\":0,\"ticks\":\"\"}}}],\"scatterternary\":[{\"type\":\"scatterternary\",\"marker\":{\"colorbar\":{\"outlinewidth\":0,\"ticks\":\"\"}}}],\"scattercarpet\":[{\"type\":\"scattercarpet\",\"marker\":{\"colorbar\":{\"outlinewidth\":0,\"ticks\":\"\"}}}],\"carpet\":[{\"aaxis\":{\"endlinecolor\":\"#2a3f5f\",\"gridcolor\":\"white\",\"linecolor\":\"white\",\"minorgridcolor\":\"white\",\"startlinecolor\":\"#2a3f5f\"},\"baxis\":{\"endlinecolor\":\"#2a3f5f\",\"gridcolor\":\"white\",\"linecolor\":\"white\",\"minorgridcolor\":\"white\",\"startlinecolor\":\"#2a3f5f\"},\"type\":\"carpet\"}],\"table\":[{\"cells\":{\"fill\":{\"color\":\"#EBF0F8\"},\"line\":{\"color\":\"white\"}},\"header\":{\"fill\":{\"color\":\"#C8D4E3\"},\"line\":{\"color\":\"white\"}},\"type\":\"table\"}],\"barpolar\":[{\"marker\":{\"line\":{\"color\":\"#E5ECF6\",\"width\":0.5},\"pattern\":{\"fillmode\":\"overlay\",\"size\":10,\"solidity\":0.2}},\"type\":\"barpolar\"}],\"pie\":[{\"automargin\":true,\"type\":\"pie\"}]},\"layout\":{\"autotypenumbers\":\"strict\",\"colorway\":[\"#636efa\",\"#EF553B\",\"#00cc96\",\"#ab63fa\",\"#FFA15A\",\"#19d3f3\",\"#FF6692\",\"#B6E880\",\"#FF97FF\",\"#FECB52\"],\"font\":{\"color\":\"#2a3f5f\"},\"hovermode\":\"closest\",\"hoverlabel\":{\"align\":\"left\"},\"paper_bgcolor\":\"white\",\"plot_bgcolor\":\"#E5ECF6\",\"polar\":{\"bgcolor\":\"#E5ECF6\",\"angularaxis\":{\"gridcolor\":\"white\",\"linecolor\":\"white\",\"ticks\":\"\"},\"radialaxis\":{\"gridcolor\":\"white\",\"linecolor\":\"white\",\"ticks\":\"\"}},\"ternary\":{\"bgcolor\":\"#E5ECF6\",\"aaxis\":{\"gridcolor\":\"white\",\"linecolor\":\"white\",\"ticks\":\"\"},\"baxis\":{\"gridcolor\":\"white\",\"linecolor\":\"white\",\"ticks\":\"\"},\"caxis\":{\"gridcolor\":\"white\",\"linecolor\":\"white\",\"ticks\":\"\"}},\"coloraxis\":{\"colorbar\":{\"outlinewidth\":0,\"ticks\":\"\"}},\"colorscale\":{\"sequential\":[[0.0,\"#0d0887\"],[0.1111111111111111,\"#46039f\"],[0.2222222222222222,\"#7201a8\"],[0.3333333333333333,\"#9c179e\"],[0.4444444444444444,\"#bd3786\"],[0.5555555555555556,\"#d8576b\"],[0.6666666666666666,\"#ed7953\"],[0.7777777777777778,\"#fb9f3a\"],[0.8888888888888888,\"#fdca26\"],[1.0,\"#f0f921\"]],\"sequentialminus\":[[0.0,\"#0d0887\"],[0.1111111111111111,\"#46039f\"],[0.2222222222222222,\"#7201a8\"],[0.3333333333333333,\"#9c179e\"],[0.4444444444444444,\"#bd3786\"],[0.5555555555555556,\"#d8576b\"],[0.6666666666666666,\"#ed7953\"],[0.7777777777777778,\"#fb9f3a\"],[0.8888888888888888,\"#fdca26\"],[1.0,\"#f0f921\"]],\"diverging\":[[0,\"#8e0152\"],[0.1,\"#c51b7d\"],[0.2,\"#de77ae\"],[0.3,\"#f1b6da\"],[0.4,\"#fde0ef\"],[0.5,\"#f7f7f7\"],[0.6,\"#e6f5d0\"],[0.7,\"#b8e186\"],[0.8,\"#7fbc41\"],[0.9,\"#4d9221\"],[1,\"#276419\"]]},\"xaxis\":{\"gridcolor\":\"white\",\"linecolor\":\"white\",\"ticks\":\"\",\"title\":{\"standoff\":15},\"zerolinecolor\":\"white\",\"automargin\":true,\"zerolinewidth\":2},\"yaxis\":{\"gridcolor\":\"white\",\"linecolor\":\"white\",\"ticks\":\"\",\"title\":{\"standoff\":15},\"zerolinecolor\":\"white\",\"automargin\":true,\"zerolinewidth\":2},\"scene\":{\"xaxis\":{\"backgroundcolor\":\"#E5ECF6\",\"gridcolor\":\"white\",\"linecolor\":\"white\",\"showbackground\":true,\"ticks\":\"\",\"zerolinecolor\":\"white\",\"gridwidth\":2},\"yaxis\":{\"backgroundcolor\":\"#E5ECF6\",\"gridcolor\":\"white\",\"linecolor\":\"white\",\"showbackground\":true,\"ticks\":\"\",\"zerolinecolor\":\"white\",\"gridwidth\":2},\"zaxis\":{\"backgroundcolor\":\"#E5ECF6\",\"gridcolor\":\"white\",\"linecolor\":\"white\",\"showbackground\":true,\"ticks\":\"\",\"zerolinecolor\":\"white\",\"gridwidth\":2}},\"shapedefaults\":{\"line\":{\"color\":\"#2a3f5f\"}},\"annotationdefaults\":{\"arrowcolor\":\"#2a3f5f\",\"arrowhead\":0,\"arrowwidth\":1},\"geo\":{\"bgcolor\":\"white\",\"landcolor\":\"#E5ECF6\",\"subunitcolor\":\"white\",\"showland\":true,\"showlakes\":true,\"lakecolor\":\"white\"},\"title\":{\"x\":0.05},\"mapbox\":{\"style\":\"light\"}}},\"xaxis\":{\"anchor\":\"y\",\"domain\":[0.0,1.0],\"title\":{\"text\":\"Calories\"}},\"yaxis\":{\"anchor\":\"x\",\"domain\":[0.0,1.0],\"title\":{\"text\":\"TotalSteps\"}},\"legend\":{\"tracegroupgap\":0,\"itemsizing\":\"constant\"},\"title\":{\"text\":\"Relationship between Calories & Total Steps\"}},                        {\"responsive\": true}                    ).then(function(){\n",
       "                            \n",
       "var gd = document.getElementById('e7341342-c405-4cbc-8b50-c4416be07076');\n",
       "var x = new MutationObserver(function (mutations, observer) {{\n",
       "        var display = window.getComputedStyle(gd).display;\n",
       "        if (!display || display === 'none') {{\n",
       "            console.log([gd, 'removed!']);\n",
       "            Plotly.purge(gd);\n",
       "            observer.disconnect();\n",
       "        }}\n",
       "}});\n",
       "\n",
       "// Listen for the removal of the full notebook cells\n",
       "var notebookContainer = gd.closest('#notebook-container');\n",
       "if (notebookContainer) {{\n",
       "    x.observe(notebookContainer, {childList: true});\n",
       "}}\n",
       "\n",
       "// Listen for the clearing of the current output cell\n",
       "var outputEl = gd.closest('.output');\n",
       "if (outputEl) {{\n",
       "    x.observe(outputEl, {childList: true});\n",
       "}}\n",
       "\n",
       "                        })                };                });            </script>        </div>"
      ]
     },
     "metadata": {},
     "output_type": "display_data"
    }
   ],
   "source": [
    "figure = px.scatter(data_frame = df, x=\"Calories\",\n",
    "                    y=\"TotalSteps\", size=\"VeryActiveMinutes\",\n",
    "                     \n",
    "                    title=\"Relationship between Calories & Total Steps\")\n",
    "figure.show()"
   ]
  },
  {
   "cell_type": "code",
   "execution_count": 30,
   "id": "5f322cc4",
   "metadata": {},
   "outputs": [
    {
     "data": {
      "application/vnd.plotly.v1+json": {
       "config": {
        "plotlyServerURL": "https://plot.ly"
       },
       "data": [
        {
         "hoverinfo": "label+percent",
         "labels": [
          "VeryActiveMinutes",
          "FairlyActiveMinutes",
          "LightlyActiveMinutes",
          "Inactive Minutes"
         ],
         "marker": {
          "colors": [
           "yellowgreen",
           "gold",
           "lightskyblue",
           "lightcoral"
          ],
          "line": {
           "color": "black",
           "width": 2
          }
         },
         "textfont": {
          "size": 20
         },
         "textinfo": "value",
         "type": "pie",
         "values": [
          21.164893617021278,
          13.564893617021276,
          192.8127659574468,
          991.2106382978724
         ]
        }
       ],
       "layout": {
        "template": {
         "data": {
          "bar": [
           {
            "error_x": {
             "color": "#2a3f5f"
            },
            "error_y": {
             "color": "#2a3f5f"
            },
            "marker": {
             "line": {
              "color": "#E5ECF6",
              "width": 0.5
             },
             "pattern": {
              "fillmode": "overlay",
              "size": 10,
              "solidity": 0.2
             }
            },
            "type": "bar"
           }
          ],
          "barpolar": [
           {
            "marker": {
             "line": {
              "color": "#E5ECF6",
              "width": 0.5
             },
             "pattern": {
              "fillmode": "overlay",
              "size": 10,
              "solidity": 0.2
             }
            },
            "type": "barpolar"
           }
          ],
          "carpet": [
           {
            "aaxis": {
             "endlinecolor": "#2a3f5f",
             "gridcolor": "white",
             "linecolor": "white",
             "minorgridcolor": "white",
             "startlinecolor": "#2a3f5f"
            },
            "baxis": {
             "endlinecolor": "#2a3f5f",
             "gridcolor": "white",
             "linecolor": "white",
             "minorgridcolor": "white",
             "startlinecolor": "#2a3f5f"
            },
            "type": "carpet"
           }
          ],
          "choropleth": [
           {
            "colorbar": {
             "outlinewidth": 0,
             "ticks": ""
            },
            "type": "choropleth"
           }
          ],
          "contour": [
           {
            "colorbar": {
             "outlinewidth": 0,
             "ticks": ""
            },
            "colorscale": [
             [
              0,
              "#0d0887"
             ],
             [
              0.1111111111111111,
              "#46039f"
             ],
             [
              0.2222222222222222,
              "#7201a8"
             ],
             [
              0.3333333333333333,
              "#9c179e"
             ],
             [
              0.4444444444444444,
              "#bd3786"
             ],
             [
              0.5555555555555556,
              "#d8576b"
             ],
             [
              0.6666666666666666,
              "#ed7953"
             ],
             [
              0.7777777777777778,
              "#fb9f3a"
             ],
             [
              0.8888888888888888,
              "#fdca26"
             ],
             [
              1,
              "#f0f921"
             ]
            ],
            "type": "contour"
           }
          ],
          "contourcarpet": [
           {
            "colorbar": {
             "outlinewidth": 0,
             "ticks": ""
            },
            "type": "contourcarpet"
           }
          ],
          "heatmap": [
           {
            "colorbar": {
             "outlinewidth": 0,
             "ticks": ""
            },
            "colorscale": [
             [
              0,
              "#0d0887"
             ],
             [
              0.1111111111111111,
              "#46039f"
             ],
             [
              0.2222222222222222,
              "#7201a8"
             ],
             [
              0.3333333333333333,
              "#9c179e"
             ],
             [
              0.4444444444444444,
              "#bd3786"
             ],
             [
              0.5555555555555556,
              "#d8576b"
             ],
             [
              0.6666666666666666,
              "#ed7953"
             ],
             [
              0.7777777777777778,
              "#fb9f3a"
             ],
             [
              0.8888888888888888,
              "#fdca26"
             ],
             [
              1,
              "#f0f921"
             ]
            ],
            "type": "heatmap"
           }
          ],
          "heatmapgl": [
           {
            "colorbar": {
             "outlinewidth": 0,
             "ticks": ""
            },
            "colorscale": [
             [
              0,
              "#0d0887"
             ],
             [
              0.1111111111111111,
              "#46039f"
             ],
             [
              0.2222222222222222,
              "#7201a8"
             ],
             [
              0.3333333333333333,
              "#9c179e"
             ],
             [
              0.4444444444444444,
              "#bd3786"
             ],
             [
              0.5555555555555556,
              "#d8576b"
             ],
             [
              0.6666666666666666,
              "#ed7953"
             ],
             [
              0.7777777777777778,
              "#fb9f3a"
             ],
             [
              0.8888888888888888,
              "#fdca26"
             ],
             [
              1,
              "#f0f921"
             ]
            ],
            "type": "heatmapgl"
           }
          ],
          "histogram": [
           {
            "marker": {
             "pattern": {
              "fillmode": "overlay",
              "size": 10,
              "solidity": 0.2
             }
            },
            "type": "histogram"
           }
          ],
          "histogram2d": [
           {
            "colorbar": {
             "outlinewidth": 0,
             "ticks": ""
            },
            "colorscale": [
             [
              0,
              "#0d0887"
             ],
             [
              0.1111111111111111,
              "#46039f"
             ],
             [
              0.2222222222222222,
              "#7201a8"
             ],
             [
              0.3333333333333333,
              "#9c179e"
             ],
             [
              0.4444444444444444,
              "#bd3786"
             ],
             [
              0.5555555555555556,
              "#d8576b"
             ],
             [
              0.6666666666666666,
              "#ed7953"
             ],
             [
              0.7777777777777778,
              "#fb9f3a"
             ],
             [
              0.8888888888888888,
              "#fdca26"
             ],
             [
              1,
              "#f0f921"
             ]
            ],
            "type": "histogram2d"
           }
          ],
          "histogram2dcontour": [
           {
            "colorbar": {
             "outlinewidth": 0,
             "ticks": ""
            },
            "colorscale": [
             [
              0,
              "#0d0887"
             ],
             [
              0.1111111111111111,
              "#46039f"
             ],
             [
              0.2222222222222222,
              "#7201a8"
             ],
             [
              0.3333333333333333,
              "#9c179e"
             ],
             [
              0.4444444444444444,
              "#bd3786"
             ],
             [
              0.5555555555555556,
              "#d8576b"
             ],
             [
              0.6666666666666666,
              "#ed7953"
             ],
             [
              0.7777777777777778,
              "#fb9f3a"
             ],
             [
              0.8888888888888888,
              "#fdca26"
             ],
             [
              1,
              "#f0f921"
             ]
            ],
            "type": "histogram2dcontour"
           }
          ],
          "mesh3d": [
           {
            "colorbar": {
             "outlinewidth": 0,
             "ticks": ""
            },
            "type": "mesh3d"
           }
          ],
          "parcoords": [
           {
            "line": {
             "colorbar": {
              "outlinewidth": 0,
              "ticks": ""
             }
            },
            "type": "parcoords"
           }
          ],
          "pie": [
           {
            "automargin": true,
            "type": "pie"
           }
          ],
          "scatter": [
           {
            "fillpattern": {
             "fillmode": "overlay",
             "size": 10,
             "solidity": 0.2
            },
            "type": "scatter"
           }
          ],
          "scatter3d": [
           {
            "line": {
             "colorbar": {
              "outlinewidth": 0,
              "ticks": ""
             }
            },
            "marker": {
             "colorbar": {
              "outlinewidth": 0,
              "ticks": ""
             }
            },
            "type": "scatter3d"
           }
          ],
          "scattercarpet": [
           {
            "marker": {
             "colorbar": {
              "outlinewidth": 0,
              "ticks": ""
             }
            },
            "type": "scattercarpet"
           }
          ],
          "scattergeo": [
           {
            "marker": {
             "colorbar": {
              "outlinewidth": 0,
              "ticks": ""
             }
            },
            "type": "scattergeo"
           }
          ],
          "scattergl": [
           {
            "marker": {
             "colorbar": {
              "outlinewidth": 0,
              "ticks": ""
             }
            },
            "type": "scattergl"
           }
          ],
          "scattermapbox": [
           {
            "marker": {
             "colorbar": {
              "outlinewidth": 0,
              "ticks": ""
             }
            },
            "type": "scattermapbox"
           }
          ],
          "scatterpolar": [
           {
            "marker": {
             "colorbar": {
              "outlinewidth": 0,
              "ticks": ""
             }
            },
            "type": "scatterpolar"
           }
          ],
          "scatterpolargl": [
           {
            "marker": {
             "colorbar": {
              "outlinewidth": 0,
              "ticks": ""
             }
            },
            "type": "scatterpolargl"
           }
          ],
          "scatterternary": [
           {
            "marker": {
             "colorbar": {
              "outlinewidth": 0,
              "ticks": ""
             }
            },
            "type": "scatterternary"
           }
          ],
          "surface": [
           {
            "colorbar": {
             "outlinewidth": 0,
             "ticks": ""
            },
            "colorscale": [
             [
              0,
              "#0d0887"
             ],
             [
              0.1111111111111111,
              "#46039f"
             ],
             [
              0.2222222222222222,
              "#7201a8"
             ],
             [
              0.3333333333333333,
              "#9c179e"
             ],
             [
              0.4444444444444444,
              "#bd3786"
             ],
             [
              0.5555555555555556,
              "#d8576b"
             ],
             [
              0.6666666666666666,
              "#ed7953"
             ],
             [
              0.7777777777777778,
              "#fb9f3a"
             ],
             [
              0.8888888888888888,
              "#fdca26"
             ],
             [
              1,
              "#f0f921"
             ]
            ],
            "type": "surface"
           }
          ],
          "table": [
           {
            "cells": {
             "fill": {
              "color": "#EBF0F8"
             },
             "line": {
              "color": "white"
             }
            },
            "header": {
             "fill": {
              "color": "#C8D4E3"
             },
             "line": {
              "color": "white"
             }
            },
            "type": "table"
           }
          ]
         },
         "layout": {
          "annotationdefaults": {
           "arrowcolor": "#2a3f5f",
           "arrowhead": 0,
           "arrowwidth": 1
          },
          "autotypenumbers": "strict",
          "coloraxis": {
           "colorbar": {
            "outlinewidth": 0,
            "ticks": ""
           }
          },
          "colorscale": {
           "diverging": [
            [
             0,
             "#8e0152"
            ],
            [
             0.1,
             "#c51b7d"
            ],
            [
             0.2,
             "#de77ae"
            ],
            [
             0.3,
             "#f1b6da"
            ],
            [
             0.4,
             "#fde0ef"
            ],
            [
             0.5,
             "#f7f7f7"
            ],
            [
             0.6,
             "#e6f5d0"
            ],
            [
             0.7,
             "#b8e186"
            ],
            [
             0.8,
             "#7fbc41"
            ],
            [
             0.9,
             "#4d9221"
            ],
            [
             1,
             "#276419"
            ]
           ],
           "sequential": [
            [
             0,
             "#0d0887"
            ],
            [
             0.1111111111111111,
             "#46039f"
            ],
            [
             0.2222222222222222,
             "#7201a8"
            ],
            [
             0.3333333333333333,
             "#9c179e"
            ],
            [
             0.4444444444444444,
             "#bd3786"
            ],
            [
             0.5555555555555556,
             "#d8576b"
            ],
            [
             0.6666666666666666,
             "#ed7953"
            ],
            [
             0.7777777777777778,
             "#fb9f3a"
            ],
            [
             0.8888888888888888,
             "#fdca26"
            ],
            [
             1,
             "#f0f921"
            ]
           ],
           "sequentialminus": [
            [
             0,
             "#0d0887"
            ],
            [
             0.1111111111111111,
             "#46039f"
            ],
            [
             0.2222222222222222,
             "#7201a8"
            ],
            [
             0.3333333333333333,
             "#9c179e"
            ],
            [
             0.4444444444444444,
             "#bd3786"
            ],
            [
             0.5555555555555556,
             "#d8576b"
            ],
            [
             0.6666666666666666,
             "#ed7953"
            ],
            [
             0.7777777777777778,
             "#fb9f3a"
            ],
            [
             0.8888888888888888,
             "#fdca26"
            ],
            [
             1,
             "#f0f921"
            ]
           ]
          },
          "colorway": [
           "#636efa",
           "#EF553B",
           "#00cc96",
           "#ab63fa",
           "#FFA15A",
           "#19d3f3",
           "#FF6692",
           "#B6E880",
           "#FF97FF",
           "#FECB52"
          ],
          "font": {
           "color": "#2a3f5f"
          },
          "geo": {
           "bgcolor": "white",
           "lakecolor": "white",
           "landcolor": "#E5ECF6",
           "showlakes": true,
           "showland": true,
           "subunitcolor": "white"
          },
          "hoverlabel": {
           "align": "left"
          },
          "hovermode": "closest",
          "mapbox": {
           "style": "light"
          },
          "paper_bgcolor": "white",
          "plot_bgcolor": "#E5ECF6",
          "polar": {
           "angularaxis": {
            "gridcolor": "white",
            "linecolor": "white",
            "ticks": ""
           },
           "bgcolor": "#E5ECF6",
           "radialaxis": {
            "gridcolor": "white",
            "linecolor": "white",
            "ticks": ""
           }
          },
          "scene": {
           "xaxis": {
            "backgroundcolor": "#E5ECF6",
            "gridcolor": "white",
            "gridwidth": 2,
            "linecolor": "white",
            "showbackground": true,
            "ticks": "",
            "zerolinecolor": "white"
           },
           "yaxis": {
            "backgroundcolor": "#E5ECF6",
            "gridcolor": "white",
            "gridwidth": 2,
            "linecolor": "white",
            "showbackground": true,
            "ticks": "",
            "zerolinecolor": "white"
           },
           "zaxis": {
            "backgroundcolor": "#E5ECF6",
            "gridcolor": "white",
            "gridwidth": 2,
            "linecolor": "white",
            "showbackground": true,
            "ticks": "",
            "zerolinecolor": "white"
           }
          },
          "shapedefaults": {
           "line": {
            "color": "#2a3f5f"
           }
          },
          "ternary": {
           "aaxis": {
            "gridcolor": "white",
            "linecolor": "white",
            "ticks": ""
           },
           "baxis": {
            "gridcolor": "white",
            "linecolor": "white",
            "ticks": ""
           },
           "bgcolor": "#E5ECF6",
           "caxis": {
            "gridcolor": "white",
            "linecolor": "white",
            "ticks": ""
           }
          },
          "title": {
           "x": 0.05
          },
          "xaxis": {
           "automargin": true,
           "gridcolor": "white",
           "linecolor": "white",
           "ticks": "",
           "title": {
            "standoff": 15
           },
           "zerolinecolor": "white",
           "zerolinewidth": 2
          },
          "yaxis": {
           "automargin": true,
           "gridcolor": "white",
           "linecolor": "white",
           "ticks": "",
           "title": {
            "standoff": 15
           },
           "zerolinecolor": "white",
           "zerolinewidth": 2
          }
         }
        },
        "title": {
         "text": "Total Active Minutes"
        }
       }
      },
      "text/html": [
       "<div>                            <div id=\"fca01970-deda-45d4-97e0-e8d117cde8f9\" class=\"plotly-graph-div\" style=\"height:525px; width:100%;\"></div>            <script type=\"text/javascript\">                require([\"plotly\"], function(Plotly) {                    window.PLOTLYENV=window.PLOTLYENV || {};                                    if (document.getElementById(\"fca01970-deda-45d4-97e0-e8d117cde8f9\")) {                    Plotly.newPlot(                        \"fca01970-deda-45d4-97e0-e8d117cde8f9\",                        [{\"labels\":[\"VeryActiveMinutes\",\"FairlyActiveMinutes\",\"LightlyActiveMinutes\",\"Inactive Minutes\"],\"values\":[21.164893617021278,13.564893617021276,192.8127659574468,991.2106382978724],\"type\":\"pie\",\"textfont\":{\"size\":20},\"marker\":{\"line\":{\"color\":\"black\",\"width\":2},\"colors\":[\"yellowgreen\",\"gold\",\"lightskyblue\",\"lightcoral\"]},\"hoverinfo\":\"label+percent\",\"textinfo\":\"value\"}],                        {\"template\":{\"data\":{\"histogram2dcontour\":[{\"type\":\"histogram2dcontour\",\"colorbar\":{\"outlinewidth\":0,\"ticks\":\"\"},\"colorscale\":[[0.0,\"#0d0887\"],[0.1111111111111111,\"#46039f\"],[0.2222222222222222,\"#7201a8\"],[0.3333333333333333,\"#9c179e\"],[0.4444444444444444,\"#bd3786\"],[0.5555555555555556,\"#d8576b\"],[0.6666666666666666,\"#ed7953\"],[0.7777777777777778,\"#fb9f3a\"],[0.8888888888888888,\"#fdca26\"],[1.0,\"#f0f921\"]]}],\"choropleth\":[{\"type\":\"choropleth\",\"colorbar\":{\"outlinewidth\":0,\"ticks\":\"\"}}],\"histogram2d\":[{\"type\":\"histogram2d\",\"colorbar\":{\"outlinewidth\":0,\"ticks\":\"\"},\"colorscale\":[[0.0,\"#0d0887\"],[0.1111111111111111,\"#46039f\"],[0.2222222222222222,\"#7201a8\"],[0.3333333333333333,\"#9c179e\"],[0.4444444444444444,\"#bd3786\"],[0.5555555555555556,\"#d8576b\"],[0.6666666666666666,\"#ed7953\"],[0.7777777777777778,\"#fb9f3a\"],[0.8888888888888888,\"#fdca26\"],[1.0,\"#f0f921\"]]}],\"heatmap\":[{\"type\":\"heatmap\",\"colorbar\":{\"outlinewidth\":0,\"ticks\":\"\"},\"colorscale\":[[0.0,\"#0d0887\"],[0.1111111111111111,\"#46039f\"],[0.2222222222222222,\"#7201a8\"],[0.3333333333333333,\"#9c179e\"],[0.4444444444444444,\"#bd3786\"],[0.5555555555555556,\"#d8576b\"],[0.6666666666666666,\"#ed7953\"],[0.7777777777777778,\"#fb9f3a\"],[0.8888888888888888,\"#fdca26\"],[1.0,\"#f0f921\"]]}],\"heatmapgl\":[{\"type\":\"heatmapgl\",\"colorbar\":{\"outlinewidth\":0,\"ticks\":\"\"},\"colorscale\":[[0.0,\"#0d0887\"],[0.1111111111111111,\"#46039f\"],[0.2222222222222222,\"#7201a8\"],[0.3333333333333333,\"#9c179e\"],[0.4444444444444444,\"#bd3786\"],[0.5555555555555556,\"#d8576b\"],[0.6666666666666666,\"#ed7953\"],[0.7777777777777778,\"#fb9f3a\"],[0.8888888888888888,\"#fdca26\"],[1.0,\"#f0f921\"]]}],\"contourcarpet\":[{\"type\":\"contourcarpet\",\"colorbar\":{\"outlinewidth\":0,\"ticks\":\"\"}}],\"contour\":[{\"type\":\"contour\",\"colorbar\":{\"outlinewidth\":0,\"ticks\":\"\"},\"colorscale\":[[0.0,\"#0d0887\"],[0.1111111111111111,\"#46039f\"],[0.2222222222222222,\"#7201a8\"],[0.3333333333333333,\"#9c179e\"],[0.4444444444444444,\"#bd3786\"],[0.5555555555555556,\"#d8576b\"],[0.6666666666666666,\"#ed7953\"],[0.7777777777777778,\"#fb9f3a\"],[0.8888888888888888,\"#fdca26\"],[1.0,\"#f0f921\"]]}],\"surface\":[{\"type\":\"surface\",\"colorbar\":{\"outlinewidth\":0,\"ticks\":\"\"},\"colorscale\":[[0.0,\"#0d0887\"],[0.1111111111111111,\"#46039f\"],[0.2222222222222222,\"#7201a8\"],[0.3333333333333333,\"#9c179e\"],[0.4444444444444444,\"#bd3786\"],[0.5555555555555556,\"#d8576b\"],[0.6666666666666666,\"#ed7953\"],[0.7777777777777778,\"#fb9f3a\"],[0.8888888888888888,\"#fdca26\"],[1.0,\"#f0f921\"]]}],\"mesh3d\":[{\"type\":\"mesh3d\",\"colorbar\":{\"outlinewidth\":0,\"ticks\":\"\"}}],\"scatter\":[{\"fillpattern\":{\"fillmode\":\"overlay\",\"size\":10,\"solidity\":0.2},\"type\":\"scatter\"}],\"parcoords\":[{\"type\":\"parcoords\",\"line\":{\"colorbar\":{\"outlinewidth\":0,\"ticks\":\"\"}}}],\"scatterpolargl\":[{\"type\":\"scatterpolargl\",\"marker\":{\"colorbar\":{\"outlinewidth\":0,\"ticks\":\"\"}}}],\"bar\":[{\"error_x\":{\"color\":\"#2a3f5f\"},\"error_y\":{\"color\":\"#2a3f5f\"},\"marker\":{\"line\":{\"color\":\"#E5ECF6\",\"width\":0.5},\"pattern\":{\"fillmode\":\"overlay\",\"size\":10,\"solidity\":0.2}},\"type\":\"bar\"}],\"scattergeo\":[{\"type\":\"scattergeo\",\"marker\":{\"colorbar\":{\"outlinewidth\":0,\"ticks\":\"\"}}}],\"scatterpolar\":[{\"type\":\"scatterpolar\",\"marker\":{\"colorbar\":{\"outlinewidth\":0,\"ticks\":\"\"}}}],\"histogram\":[{\"marker\":{\"pattern\":{\"fillmode\":\"overlay\",\"size\":10,\"solidity\":0.2}},\"type\":\"histogram\"}],\"scattergl\":[{\"type\":\"scattergl\",\"marker\":{\"colorbar\":{\"outlinewidth\":0,\"ticks\":\"\"}}}],\"scatter3d\":[{\"type\":\"scatter3d\",\"line\":{\"colorbar\":{\"outlinewidth\":0,\"ticks\":\"\"}},\"marker\":{\"colorbar\":{\"outlinewidth\":0,\"ticks\":\"\"}}}],\"scattermapbox\":[{\"type\":\"scattermapbox\",\"marker\":{\"colorbar\":{\"outlinewidth\":0,\"ticks\":\"\"}}}],\"scatterternary\":[{\"type\":\"scatterternary\",\"marker\":{\"colorbar\":{\"outlinewidth\":0,\"ticks\":\"\"}}}],\"scattercarpet\":[{\"type\":\"scattercarpet\",\"marker\":{\"colorbar\":{\"outlinewidth\":0,\"ticks\":\"\"}}}],\"carpet\":[{\"aaxis\":{\"endlinecolor\":\"#2a3f5f\",\"gridcolor\":\"white\",\"linecolor\":\"white\",\"minorgridcolor\":\"white\",\"startlinecolor\":\"#2a3f5f\"},\"baxis\":{\"endlinecolor\":\"#2a3f5f\",\"gridcolor\":\"white\",\"linecolor\":\"white\",\"minorgridcolor\":\"white\",\"startlinecolor\":\"#2a3f5f\"},\"type\":\"carpet\"}],\"table\":[{\"cells\":{\"fill\":{\"color\":\"#EBF0F8\"},\"line\":{\"color\":\"white\"}},\"header\":{\"fill\":{\"color\":\"#C8D4E3\"},\"line\":{\"color\":\"white\"}},\"type\":\"table\"}],\"barpolar\":[{\"marker\":{\"line\":{\"color\":\"#E5ECF6\",\"width\":0.5},\"pattern\":{\"fillmode\":\"overlay\",\"size\":10,\"solidity\":0.2}},\"type\":\"barpolar\"}],\"pie\":[{\"automargin\":true,\"type\":\"pie\"}]},\"layout\":{\"autotypenumbers\":\"strict\",\"colorway\":[\"#636efa\",\"#EF553B\",\"#00cc96\",\"#ab63fa\",\"#FFA15A\",\"#19d3f3\",\"#FF6692\",\"#B6E880\",\"#FF97FF\",\"#FECB52\"],\"font\":{\"color\":\"#2a3f5f\"},\"hovermode\":\"closest\",\"hoverlabel\":{\"align\":\"left\"},\"paper_bgcolor\":\"white\",\"plot_bgcolor\":\"#E5ECF6\",\"polar\":{\"bgcolor\":\"#E5ECF6\",\"angularaxis\":{\"gridcolor\":\"white\",\"linecolor\":\"white\",\"ticks\":\"\"},\"radialaxis\":{\"gridcolor\":\"white\",\"linecolor\":\"white\",\"ticks\":\"\"}},\"ternary\":{\"bgcolor\":\"#E5ECF6\",\"aaxis\":{\"gridcolor\":\"white\",\"linecolor\":\"white\",\"ticks\":\"\"},\"baxis\":{\"gridcolor\":\"white\",\"linecolor\":\"white\",\"ticks\":\"\"},\"caxis\":{\"gridcolor\":\"white\",\"linecolor\":\"white\",\"ticks\":\"\"}},\"coloraxis\":{\"colorbar\":{\"outlinewidth\":0,\"ticks\":\"\"}},\"colorscale\":{\"sequential\":[[0.0,\"#0d0887\"],[0.1111111111111111,\"#46039f\"],[0.2222222222222222,\"#7201a8\"],[0.3333333333333333,\"#9c179e\"],[0.4444444444444444,\"#bd3786\"],[0.5555555555555556,\"#d8576b\"],[0.6666666666666666,\"#ed7953\"],[0.7777777777777778,\"#fb9f3a\"],[0.8888888888888888,\"#fdca26\"],[1.0,\"#f0f921\"]],\"sequentialminus\":[[0.0,\"#0d0887\"],[0.1111111111111111,\"#46039f\"],[0.2222222222222222,\"#7201a8\"],[0.3333333333333333,\"#9c179e\"],[0.4444444444444444,\"#bd3786\"],[0.5555555555555556,\"#d8576b\"],[0.6666666666666666,\"#ed7953\"],[0.7777777777777778,\"#fb9f3a\"],[0.8888888888888888,\"#fdca26\"],[1.0,\"#f0f921\"]],\"diverging\":[[0,\"#8e0152\"],[0.1,\"#c51b7d\"],[0.2,\"#de77ae\"],[0.3,\"#f1b6da\"],[0.4,\"#fde0ef\"],[0.5,\"#f7f7f7\"],[0.6,\"#e6f5d0\"],[0.7,\"#b8e186\"],[0.8,\"#7fbc41\"],[0.9,\"#4d9221\"],[1,\"#276419\"]]},\"xaxis\":{\"gridcolor\":\"white\",\"linecolor\":\"white\",\"ticks\":\"\",\"title\":{\"standoff\":15},\"zerolinecolor\":\"white\",\"automargin\":true,\"zerolinewidth\":2},\"yaxis\":{\"gridcolor\":\"white\",\"linecolor\":\"white\",\"ticks\":\"\",\"title\":{\"standoff\":15},\"zerolinecolor\":\"white\",\"automargin\":true,\"zerolinewidth\":2},\"scene\":{\"xaxis\":{\"backgroundcolor\":\"#E5ECF6\",\"gridcolor\":\"white\",\"linecolor\":\"white\",\"showbackground\":true,\"ticks\":\"\",\"zerolinecolor\":\"white\",\"gridwidth\":2},\"yaxis\":{\"backgroundcolor\":\"#E5ECF6\",\"gridcolor\":\"white\",\"linecolor\":\"white\",\"showbackground\":true,\"ticks\":\"\",\"zerolinecolor\":\"white\",\"gridwidth\":2},\"zaxis\":{\"backgroundcolor\":\"#E5ECF6\",\"gridcolor\":\"white\",\"linecolor\":\"white\",\"showbackground\":true,\"ticks\":\"\",\"zerolinecolor\":\"white\",\"gridwidth\":2}},\"shapedefaults\":{\"line\":{\"color\":\"#2a3f5f\"}},\"annotationdefaults\":{\"arrowcolor\":\"#2a3f5f\",\"arrowhead\":0,\"arrowwidth\":1},\"geo\":{\"bgcolor\":\"white\",\"landcolor\":\"#E5ECF6\",\"subunitcolor\":\"white\",\"showland\":true,\"showlakes\":true,\"lakecolor\":\"white\"},\"title\":{\"x\":0.05},\"mapbox\":{\"style\":\"light\"}}},\"title\":{\"text\":\"Total Active Minutes\"}},                        {\"responsive\": true}                    ).then(function(){\n",
       "                            \n",
       "var gd = document.getElementById('fca01970-deda-45d4-97e0-e8d117cde8f9');\n",
       "var x = new MutationObserver(function (mutations, observer) {{\n",
       "        var display = window.getComputedStyle(gd).display;\n",
       "        if (!display || display === 'none') {{\n",
       "            console.log([gd, 'removed!']);\n",
       "            Plotly.purge(gd);\n",
       "            observer.disconnect();\n",
       "        }}\n",
       "}});\n",
       "\n",
       "// Listen for the removal of the full notebook cells\n",
       "var notebookContainer = gd.closest('#notebook-container');\n",
       "if (notebookContainer) {{\n",
       "    x.observe(notebookContainer, {childList: true});\n",
       "}}\n",
       "\n",
       "// Listen for the clearing of the current output cell\n",
       "var outputEl = gd.closest('.output');\n",
       "if (outputEl) {{\n",
       "    x.observe(outputEl, {childList: true});\n",
       "}}\n",
       "\n",
       "                        })                };                });            </script>        </div>"
      ]
     },
     "metadata": {},
     "output_type": "display_data"
    }
   ],
   "source": [
    "labels = ['VeryActiveMinutes','FairlyActiveMinutes','LightlyActiveMinutes','Inactive Minutes']\n",
    "count = df[['VeryActiveMinutes','FairlyActiveMinutes','LightlyActiveMinutes','SedentaryMinutes']].mean()\n",
    "\n",
    "colors = ['yellowgreen', 'gold', 'lightskyblue', 'lightcoral']\n",
    "fig = go.Figure(data=[go.Pie(labels=labels, values=count)])\n",
    "fig.update_layout(title_text='Total Active Minutes')\n",
    "fig.update_traces(hoverinfo='label+percent', textinfo='value', textfont_size=20,\n",
    "                  marker=dict(colors=colors, line=dict(color='black', width=2)))\n",
    "fig.show()"
   ]
  },
  {
   "cell_type": "markdown",
   "id": "68727b00",
   "metadata": {},
   "source": [
    "### Observations:\n",
    "__1.__ 81.3% of Total inactive minutes in a day\n",
    "\n",
    "__2.__ 15.8% of Lightly active minutes in a day\n",
    "\n",
    "__3.__ On an average, only 21 minutes (1.74%) were very active\n",
    "\n",
    "__4.__ and 1.11% (13 minutes) of fairly active minutes in a day"
   ]
  },
  {
   "cell_type": "code",
   "execution_count": null,
   "id": "b7a71825",
   "metadata": {},
   "outputs": [],
   "source": []
  }
 ],
 "metadata": {
  "kernelspec": {
   "display_name": "Python 3 (ipykernel)",
   "language": "python",
   "name": "python3"
  },
  "language_info": {
   "codemirror_mode": {
    "name": "ipython",
    "version": 3
   },
   "file_extension": ".py",
   "mimetype": "text/x-python",
   "name": "python",
   "nbconvert_exporter": "python",
   "pygments_lexer": "ipython3",
   "version": "3.10.0"
  }
 },
 "nbformat": 4,
 "nbformat_minor": 5
}
